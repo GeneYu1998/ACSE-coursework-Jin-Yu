{
 "cells": [
  {
   "cell_type": "markdown",
   "metadata": {},
   "source": [
    "# ACSE-7 Inversion & Optimisation - Part B (45 pts) <a class=\"tocSkip\"></a>\n",
    "\n",
    "This question covers lecture 2-7.\n",
    "\n",
    "Please read the general instructions in [README.md](./README.md) first!"
   ]
  },
  {
   "cell_type": "markdown",
   "metadata": {},
   "source": [
    "# Introduction: the Helmholtz equation<a class=\"tocSkip\"/></a>\n",
    "\n",
    "We consider the following PDE in two dimensions:\n",
    "\n",
    "$$\n",
    "  -\\frac{\\partial^2 u(x,y)}{\\partial x^2} - \\frac{\\partial^2 u(x,y)}{\\partial y^2} + c u(x,y) = s(x,y)\n",
    "$$\n",
    "\n",
    "which has many applications in e.g. optics, metereology, oceanography. Here $u(x, y)$ is the function we solve for, $s(x,y)$ is a prescribed source term, and $c$ is a scalar coefficient."
   ]
  },
  {
   "cell_type": "markdown",
   "metadata": {},
   "source": [
    "We will use the following finite difference discretisation \n",
    "\n",
    "$$\n",
    "\\frac{-u_{i-1} + 2u_{i} -u_{i+1}}{\\Delta x^2} + \\frac{-u_{i-N_x} + 2u_{i} - u_{i+N_x}}{\\Delta y^2} + c u_i = s_i\n",
    "$$\n",
    "\n",
    "where we assume a computational grid of $N_y$ rows and $N_x$ columns, giving $n=N_x\\cdot N_y$ grid points covering a rectangular domain $L_x \\times L_y$."
   ]
  },
  {
   "cell_type": "code",
   "execution_count": 1,
   "metadata": {},
   "outputs": [],
   "source": [
    "%matplotlib inline\n",
    "import numpy as np\n",
    "import numpy.linalg as la\n",
    "import scipy.linalg as sl\n",
    "import scipy.sparse.linalg as spl\n",
    "import scipy.linalg as sl\n",
    "import matplotlib.pyplot as plt\n",
    "import scipy.sparse as sp\n",
    "import scipy.optimize as sop\n",
    "# making slopes\n",
    "from mpltools import annotation\n",
    "# Used for some simplistic timing in a few places:\n",
    "from timeit import default_timer as timer\n",
    "import pyamg\n",
    "np.set_printoptions(suppress=True)"
   ]
  },
  {
   "cell_type": "markdown",
   "metadata": {},
   "source": [
    "The first two terms form the same discretisation of the Laplace operator that we have been using in the lectures: a central finite difference scheme. You can use the following implementation that applies Neumann boundary conditions on all boundaries:"
   ]
  },
  {
   "cell_type": "markdown",
   "metadata": {},
   "source": [
    "<br>\n",
    "Note: I've altered this 'laplace_matrix' function, creating and returning the $x$ and $y$ s for each of the grid points ($N_x \\times N_y$ )besides Matrix $\\underline{\\mathbf K}$."
   ]
  },
  {
   "cell_type": "code",
   "execution_count": 2,
   "metadata": {},
   "outputs": [],
   "source": [
    "def laplace_matrix(Nx, Ny, Lx=1.0, Ly=1.0):\n",
    "    \"\"\" Form/assemble the discretised Laplace operator assuming all Neumann boundary conditions.\"\"\"\n",
    "    dx = Lx/(Nx-1)\n",
    "    dy = Ly/(Ny-1)\n",
    "    \n",
    "    # construct matrix from 5 (off-)diagonals\n",
    "    n = Nx*Ny\n",
    "    \n",
    "    # generate the mesh grid\n",
    "    X = np.linspace(0, Lx, Nx)\n",
    "    Y = np.linspace(0, Ly, Ny)\n",
    "    xi, yi = np.meshgrid(X, Y)\n",
    "    xi = xi.flatten()\n",
    "    yi = yi.flatten()\n",
    "\n",
    "\n",
    "    offsets = [-Nx, -1, 0, 1, Nx]\n",
    "    diags = []\n",
    "    # coefficient in front of u_{i-Nx}:\n",
    "    diags.append(-np.ones(n-Nx)/dy**2)\n",
    "    # coefficient in front of u_{i-1}:\n",
    "    diags.append(-np.ones(n-1)/dx**2)\n",
    "    # main diagonal, will be overwritten later on, but we need some nonzero value for now:\n",
    "    diags.append(np.ones(n))\n",
    "    # coefficient in front of u_{i+1}:\n",
    "    diags.append(diags[1])\n",
    "    # coefficient in front of u_{i+Nx}:\n",
    "    diags.append(diags[0])\n",
    "    K = sp.diags(diags, offsets, format='csr')\n",
    "    \n",
    "    # The matrix assembled so far assumed that every grid point has 4 neighbours\n",
    "    # For the grid points in the top row that miss a neighbour above this is dealt with\n",
    "    # automatically as the grid number of the neighbour above is outside the range 0<=i<n\n",
    "    # and the same goes for the bottom row with missing neighbours below.\n",
    "    # In grid-points i in the left column however, we have connected to grid-points i-1 which are in\n",
    "    # the right column (and one row above). These entries are unwanted and are removed below.\n",
    "    \n",
    "    # loop over left-most column in grid (except first row)\n",
    "    for i in np.arange(Nx, n, Nx):\n",
    "        K[i, i-1] = 0.\n",
    "        K[i-1, i] = 0.\n",
    "        \n",
    "    # In the discrete laplace operator with only Neumann boundary conditions\n",
    "    # the sum over each row should be zero. We can use this property to set the correct\n",
    "    # values for the main diagonal\n",
    "        \n",
    "    K.setdiag(0.)  # reset diagonal\n",
    "    \n",
    "    # K.setdiag(-K.sum(axis=1))\n",
    "    K.setdiag(-np.asarray(K.sum(axis=1)).flatten()) # set to negative of sum over other entries in each row\n",
    "    \n",
    "    return K, xi, yi"
   ]
  },
  {
   "cell_type": "markdown",
   "metadata": {},
   "source": [
    "Additionally you may use the following code to calculate the $x_i$ and $y_i$ coordinates of the grid points on a $N_x\\times N_y$ mesh:"
   ]
  },
  {
   "cell_type": "code",
   "execution_count": 3,
   "metadata": {},
   "outputs": [],
   "source": [
    "Nx = 3\n",
    "Ny = 3 \n",
    "n = Nx*Ny\n",
    "Lx = 1.0\n",
    "Ly = 1.0\n",
    "dx = Lx/(Nx-1)\n",
    "dy = Ly/(Ny-1)\n",
    "X = np.linspace(0, Lx, Nx)\n",
    "Y = np.linspace(0, Ly, Ny)\n",
    "xi, yi = np.meshgrid(X, Y)\n",
    "xi = xi.flatten()\n",
    "yi = yi.flatten()"
   ]
  },
  {
   "cell_type": "markdown",
   "metadata": {},
   "source": [
    "# Question B1\n",
    "\n",
    "Let $\\underline{\\mathbf K}$ be the matrix returned by this function. You may use the fact that $\\underline{\\mathbf K}$ is symmetric and positive semi-definite. The linear system of equations associated with the discretisation of the Helmholtz PDE can be written: \n",
    "\n",
    "$$\n",
    "  \\left[\\underline{\\mathbf K} + c \\underline{\\mathbf I}\\right] {\\mathbf u} = {\\mathbf s}\n",
    "$$"
   ]
  },
  {
   "cell_type": "markdown",
   "metadata": {},
   "source": [
    "* For what values of $c$ is the matrix $\\underline{\\mathbf K} + c \\underline{\\mathbf I}$ Symmetric Positive Definite? Give a short mathematical proof. You do *not* need to prove that $\\mathbf K$ on its own is symmetric and positive semi-definite.\n",
    "\n",
    "---"
   ]
  },
  {
   "cell_type": "markdown",
   "metadata": {},
   "source": [
    "## Answer for B1\n",
    "For any $c$ > 0, $\\underline{\\mathbf K} + c \\underline{\\mathbf I}$ is Symmetric Positive Definite.\n",
    "<br>\n",
    "<br>\n",
    "Proof:\n",
    "<br>\n",
    "1) $c \\underline{\\mathbf I}$ is symmetric, and $\\underline{\\mathbf K}$ is symmetric, thus $\\underline{\\mathbf K} + c \\underline{\\mathbf I}$ is symmetric.\n",
    "<br>\n",
    "2) we know $\\underline{\\mathbf K}$ is positive semi-definite, that means for \n",
    "$$\n",
    "\\forall  {\\bf v}\\in{\\mathbb{R}}^n,\\text{except } \\;{\\bf v}=0,\\;\\;\n",
    "{\\bf v}^T \\underline{\\mathbf K}\n",
    "{\\bf v} \\geq 0 \\;\\;\n",
    "$$\n",
    "\n",
    "if we choose $\\forall \\, c$ > 0, we have:\n",
    "$$\n",
    "\\begin{aligned}\n",
    "\\forall  {\\bf v}\\in{\\mathbb{R}}^n,\\text{except } \\;{\\bf v}=0,\\;{\\bf v}^T \\left(\\underline{\\mathbf K} + c \\underline{\\mathbf I}\\right) {\\bf v}&= {\\bf v}^T \\underline{\\mathbf K}\n",
    "{\\bf v} + c \\;{\\bf v}^T \\underline{\\mathbf I} {\\bf v}\\\\\n",
    "&={\\bf v}^T \\underline{\\mathbf K}\n",
    "{\\bf v} + c \\;{\\bf v}^T {\\bf v}\\\\\n",
    "&> 0 \\; (\\text{because the first term is non-zero and the second term is strictly positive})\n",
    "\\end{aligned}\n",
    "$$\n",
    "then $\\underline{\\mathbf K} + c \\underline{\\mathbf I}$ is Positive Definite.\n",
    "<br>\n",
    "<br>\n",
    "<br>\n",
    "In conclusion, if $c$ is a positive number, then $\\underline{\\mathbf K} + c \\underline{\\mathbf I}$ is Symmetric Positive Definite (SPD)."
   ]
  },
  {
   "cell_type": "markdown",
   "metadata": {},
   "source": [
    "# Question B2\n",
    "\n",
    "On a unit square ($L_x=L_y=1$) with a source term\n",
    "\n",
    "$$\n",
    "  s(x, y) = \\left(8\\pi^2+c\\right) \\cos(2\\pi x)\\cos(2\\pi y)\n",
    "$$\n",
    "\n",
    "the analytical solution is given by\n",
    "\n",
    "$$\n",
    "  u(x,y) = \\cos(2\\pi x) \\cos(2\\pi y)\n",
    "$$"
   ]
  },
  {
   "cell_type": "markdown",
   "metadata": {},
   "source": [
    "* Solve the discretised equation with the given source term for a series of increasing grid resolution using the (unpreconditioned) Conjugate Gradient method using a relative tolerance of $\\varepsilon_{\\text rel}=10^{-5}$. Use a value of $c=1$. Plot the number of required iterations versus the number of grid points $n$ and analyse its asymptotic behaviour. Discuss how this behaviour could be improved. For the Conjugate Gradient method you may use the implementation from the lecture notes, or use [`scipy.sparse.linalg.cg`](https://docs.scipy.org/doc/scipy/reference/generated/scipy.sparse.linalg.cg.html) (but see lecture 5 how you can use `SimpleCounter` to obtain iteration counts).\n",
    "\n",
    "---"
   ]
  },
  {
   "cell_type": "markdown",
   "metadata": {},
   "source": [
    "## Answer for B2\n",
    "\n",
    "First, we will define the analytical solution \n",
    "$$\n",
    "  u(x,y) = \\cos(2\\pi x) \\cos(2\\pi y)\n",
    "$$\n",
    "\n",
    "as well as the source term\n",
    "\n",
    "$$\n",
    "  s(x, y) = \\left(8\\pi^2+c\\right) \\cos(2\\pi x)\\cos(2\\pi y)\n",
    "$$\n",
    "\n",
    "given an $N_x\\times N_y$ mesh, and store the values in 1-D arrays with $N_x\\times N_y$ elements."
   ]
  },
  {
   "cell_type": "code",
   "execution_count": 4,
   "metadata": {},
   "outputs": [],
   "source": [
    "def u_exact(xi, yi):\n",
    "    return np.cos(2 * np.pi * xi) * np.cos(2 * np.pi * yi)"
   ]
  },
  {
   "cell_type": "code",
   "execution_count": 5,
   "metadata": {},
   "outputs": [],
   "source": [
    "def s_function(xi, yi):\n",
    "    return (8 * np.pi **2 + 1) * np.cos(2 * np.pi * xi) * np.cos(2 * np.pi * yi)"
   ]
  },
  {
   "cell_type": "markdown",
   "metadata": {},
   "source": [
    "We borrow the `SimpleCounter` function in lecture 5, to obtain iteration counts in Conjugate Gradient:"
   ]
  },
  {
   "cell_type": "code",
   "execution_count": 6,
   "metadata": {},
   "outputs": [],
   "source": [
    "# borrow from lecture-5\n",
    "class SimpleCounter:\n",
    "    \"\"\"Simple counter object that records how many times it has been called\"\"\"\n",
    "    def __init__(self):\n",
    "        self.count = 0\n",
    "    \n",
    "    def __call__(self, *args):\n",
    "        \"\"\"Counts each call, ignore any arguments\"\"\"\n",
    "        self.count += 1"
   ]
  },
  {
   "cell_type": "markdown",
   "metadata": {},
   "source": [
    "Then we'll solve the discretised equation with the given source term using the (unpreconditioned) Conjugate Gradient method with a relative tolerance of $\\epsilon_{rel} = 10^{−5}$\n",
    "and $c=1$, for a series of different grid sizes : $10 \\times 10, \\, 20 \\times 20, \\, 40 \\times 40, \\, 80 \\times 80, \\,\\text{and} \\, 160 \\times 160 $, \n",
    "then we will have the size of the discretised matrix being $100 \\times 100, \\, 400 \\times 400, \\, 1600 \\times 1600, \\, 6400 \\times 6400, \\,\\text{and} \\, 25600 \\times 25600 $, we call this size as Degrees of Freedom $n$."
   ]
  },
  {
   "cell_type": "code",
   "execution_count": 7,
   "metadata": {},
   "outputs": [
    {
     "name": "stdout",
     "output_type": "stream",
     "text": [
      "Degrees Of Freedom: [100, 400, 1600, 6400, 25600]\n",
      "RMS error (to the exact solution) for Conjugate Gradient: [0.08184085504477343, 0.010800265412827217, 0.0015815825052557853, 0.0002810651449575996, 6.040377223886138e-05]\n",
      "Iterations Conjugate Gradient: [14, 33, 65, 123, 232]\n"
     ]
    }
   ],
   "source": [
    "# gettingideas from lecture-5\n",
    "# setting two arrays to store RMS errors and iteration numbers of CG for different mesh sizes.\n",
    "RMS_error_cg = []\n",
    "its_cg = []\n",
    "# a series of grid sizes\n",
    "nxs = [10, 20, 40, 80, 160]\n",
    "ns = []\n",
    "# a unit square\n",
    "Lx = 1\n",
    "Ly = 1\n",
    "\n",
    "# solve for each size\n",
    "for nx in nxs:\n",
    "    K, xi, yi = laplace_matrix(nx, nx, Lx, Ly)\n",
    "    n = nx**2\n",
    "    # note here c = 1\n",
    "    K = K + sp.eye(n)\n",
    "    s = s_function(xi, yi)\n",
    "    counter = SimpleCounter()\n",
    "    x, info_cg = spl.cg(K,s, tol=1e-5, callback=counter)\n",
    "    its_cg.append(counter.count)\n",
    "    RMS_error_cg.append(la.norm(x - u_exact(xi, yi)) / n )\n",
    "    ns.append(n)\n",
    "\n",
    "print(\"Degrees Of Freedom:\", ns)\n",
    "print(\"RMS error (to the exact solution) for Conjugate Gradient:\", RMS_error_cg)\n",
    "print(\"Iterations Conjugate Gradient:\", its_cg)"
   ]
  },
  {
   "cell_type": "markdown",
   "metadata": {},
   "source": [
    "We could see from the result that finer resolution gives a better approximation to the exact solution (decrease in RMS error). However, the Iterations used are increasing as the mesh size increasing.<br>\n",
    "Let's make a log-log plot to better observe this:"
   ]
  },
  {
   "cell_type": "code",
   "execution_count": 8,
   "metadata": {},
   "outputs": [
    {
     "data": {
      "image/png": "[encoded data removed]",
      "text/plain": [
       "<Figure size 720x576 with 1 Axes>"
      ]
     },
     "metadata": {
      "needs_background": "light"
     },
     "output_type": "display_data"
    }
   ],
   "source": [
    "# getting ideas from lecture-5\n",
    "fig, ax = plt.subplots(1,1,figsize=(10,8))\n",
    "ax.loglog(ns, its_cg, '.-', label='Conjugate Gradient')\n",
    "ax.set_xlabel('Degrees of Freedom $n$')\n",
    "ax.set_ylabel('Iterations')\n",
    "annotation.slope_marker((900, 45), (0.5, 1), ax=ax,\n",
    "                        size_frac=.2, pad_frac=0.05, text_kwargs = dict(fontsize = 14))\n"
   ]
  },
  {
   "cell_type": "markdown",
   "metadata": {},
   "source": [
    "From the log-log plot, we could see that the required number of iterations is roughly proportional to $\\sqrt{n}$. The reason for that is the condition number \n",
    "$$\n",
    "  \\kappa(\\underline{\\mathbf K} + c \\underline{\\mathbf I}) = \\frac{\\mu_{\\text max}}{\\mu_{\\text min}} \\propto \\frac 1{\\Delta x^2}= N_x^2=n \\;\\left(\\text{$\\mu$ s are eigenvalues for the matrix}\\right)\n",
    "$$\n",
    "of the matrix increases linearly with increasing $n$.<br>\n",
    "We could observe this using the following code:"
   ]
  },
  {
   "cell_type": "code",
   "execution_count": 9,
   "metadata": {},
   "outputs": [
    {
     "name": "stdout",
     "output_type": "stream",
     "text": [
      "Degrees of freedom:  [100, 400, 1600, 6400, 25600]\n",
      "kappa = [633.11821826626, 2866.667595243016, 12098.307482844748, 49690.66214262331, 201449.118240082]\n"
     ]
    }
   ],
   "source": [
    "# getting idea from lecture 5\n",
    "kappa = []\n",
    "for nx in nxs:\n",
    "    K, xi, yi = laplace_matrix(nx, nx, Lx, Ly)\n",
    "    K = K + sp.eye(nx ** 2)\n",
    "    w1, v1 = spl.eigsh(K, k=1, tol=0.1) # ask for largest eigenvalue only\n",
    "    w2, v2 = spl.eigsh(K, k=1, tol=0.1, which='SA')  # ask for smallest eigenvalue only\n",
    "    kappa.append(w1[0]/w2[0])\n",
    "    \n",
    "print(\"Degrees of freedom: \", ns)\n",
    "print(\"kappa =\", kappa)"
   ]
  },
  {
   "cell_type": "code",
   "execution_count": 10,
   "metadata": {},
   "outputs": [
    {
     "data": {
      "image/png": "[encoded data removed]",
      "text/plain": [
       "<Figure size 432x288 with 1 Axes>"
      ]
     },
     "metadata": {
      "needs_background": "light"
     },
     "output_type": "display_data"
    }
   ],
   "source": [
    "plt.loglog(ns, kappa, '.-')\n",
    "plt.xlabel('Degrees of freedom $n$')\n",
    "plt.ylabel('Condition Number $\\kappa$')\n",
    "annotation.slope_marker((1.7e3, 1e4), (1, 1),\n",
    "                        size_frac=.2, pad_frac=0.05, text_kwargs = dict(fontsize = 14))"
   ]
  },
  {
   "cell_type": "markdown",
   "metadata": {},
   "source": [
    "As the performance of the Conjugate Gradient seem strongly dependent on the condition number which increases with problem size, we could combine stationary methods as Preconditioner for CG. <br>\n",
    "Consider an iteration of the form:\n",
    "\n",
    "\\begin{align*}\n",
    "{\\bf x}^{(k+1)} &= {\\bf x}^{(k)} + \\alpha_k\\underline{\\mathbf P}{\\bf r}^{(k)} \\\\\n",
    "    &= {\\bf x}^{(k)} + \\alpha_k\\left(\\underline{\\mathbf P}{\\bf b} - \\underline{\\mathbf P}~\\underline{\\mathbf A}{\\bf x}^{(k)}\\right)\n",
    "\\end{align*}\n",
    "\n",
    "It is equivalent to applying the Conjugate Gradient method to the following modified linear system:\n",
    "\n",
    "$$\n",
    "  \\underline{\\mathbf P}~\\underline{\\mathbf A} {\\bf x} = \\underline{\\mathbf P}{\\bf b}\n",
    "$$\n",
    "\n",
    "If we assume $\\underline{\\mathbf P}$ is invertible, this is equivalent to the linear system $\\underline{\\mathbf A}{\\bf x}={\\bf b}$.\n",
    "\n",
    "Also, we will normally require $\\underline{\\mathbf P}$ to be SPD, then $\\underline{\\mathbf P}~\\underline{\\mathbf A}$ would also be SPD to ensure CG will work.\n",
    "\n",
    "If $\\underline{\\mathbf P}=\\underline{\\mathbf M}^{-1}$ is a good approximation of the inverse of $\\underline{\\mathbf A}$ then the CG will converge considerably faster because the condition number of the modified system, almost does not increase with size.\n",
    "\n",
    "In the following we will introduce the SSOR Preconditioner, as well as the Algebraic Multigrid Preconditioner.<br>\n",
    "<br>\n",
    "First, we take the `Preconditioner` class from lecture-5:"
   ]
  },
  {
   "cell_type": "code",
   "execution_count": 11,
   "metadata": {},
   "outputs": [],
   "source": [
    "# taking from lecture-5\n",
    "class Preconditioner(spl.LinearOperator):\n",
    "    def __init__(self, A):\n",
    "        super().__init__(dtype=None, shape=A.shape)\n",
    "    \n",
    "    def __call__(self, r):\n",
    "        raise NotImplemented(\"The call method should be overloaded\")\n",
    "        \n",
    "    def _matvec(self, r):\n",
    "        return self(r)"
   ]
  },
  {
   "cell_type": "markdown",
   "metadata": {},
   "source": [
    "### The SSOR Preconditioner (borrowed from lecture-5)\n",
    "For our matrix $\\underline{\\mathbf A}$, if we decompose it by the addition of an upper-triangle $\\underline{\\mathbf U}$, a lower-triangle $\\underline{\\mathbf L}$ and a diagonal Matrix $\\underline{\\mathbf D}$, that is\n",
    "<br>\n",
    "<br>\n",
    "$$\n",
    "\\underline{\\mathbf A} = \\underline{\\mathbf L} + \\underline{\\mathbf D} + \\underline{\\mathbf U}\n",
    "$$\n",
    "\n",
    "<br>\n",
    "We define Symmetric Successive Over-Relaxation (SSOR) Preconditioner $\\underline{\\mathbf P} = \\underline{\\mathbf M}^{-1}$, where \n",
    "\n",
    "$$\n",
    "  \\underline{\\mathbf M} = \\frac 1{\\omega(2-\\omega)} \\left[\\underline{\\mathbf D} + \\omega\\underline{\\mathbf L}\\right]\\underline{\\mathbf D}^{-1}\\left[\\underline{\\mathbf D} + \\omega\\underline{\\mathbf U}\\right]\n",
    "$$\n",
    "for some $0 \\lt \\omega \\lt 2$. <br>\n",
    "This method preserves the symmetric property, because if A is SPD,\n",
    "\n",
    "$$\n",
    "  \\underline{\\mathbf A}=\\underline{\\mathbf A}^T \\implies \\underline{\\mathbf U} = \\underline{\\mathbf L}^T \\implies \\underline{\\mathbf M}=\\underline{\\mathbf M}^T\n",
    "$$"
   ]
  },
  {
   "cell_type": "code",
   "execution_count": 12,
   "metadata": {},
   "outputs": [],
   "source": [
    "# taking from lecture-5\n",
    "class SSORPreconditioner(Preconditioner):\n",
    "    \"\"\"SSOR method\"\"\"\n",
    "    def __init__(self, A, omega=1.0):\n",
    "        super().__init__(A)\n",
    "        self.DOL = sp.tril(A)  # DOL = D + L\n",
    "        self.DOU = sp.triu(A)  # DOU = D + U\n",
    "        if not omega==1.0:\n",
    "            # add (omega-1)*L and (omega-1)*U resp.\n",
    "            # see comments in GaussSeidelPreconditioner\n",
    "            self.DOL += (omega-1.0)*sp.tril(A, -1)\n",
    "            self.DOU += (omega-1.0)*sp.triu(A, 1)\n",
    "            \n",
    "        # every iteration we need to compute M^-1 r\n",
    "        # from the definition of M above we get\n",
    "        #   M^-1 = omega*(2-omega) * DOU^-1 * D * DOL^-1\n",
    "        # (note the order is swapped)\n",
    "        \n",
    "        # we combine the steps of multiplying with the diagonal matrix M\n",
    "        # and multiplying with the scalar omega*(2-omega) by scaling the diagonal:\n",
    "        self.diag = A.diagonal()*(omega*(2-omega))    \n",
    "        \n",
    "    def __call__(self, r):\n",
    "        # 1) do a lower triangular solve with DOL\n",
    "        # 2) multiply with self.diag = diagonal(A)*omega*(2-omega)\n",
    "        # 3) do a upper triangulaer solve with DOU using spsolve_triangular(..., lower=False)\n",
    "        return spl.spsolve_triangular(self.DOU, self.diag * spl.spsolve_triangular(self.DOL, r), lower=False)"
   ]
  },
  {
   "cell_type": "markdown",
   "metadata": {},
   "source": [
    "Let's observe how the choice of $\\omega$ influence the convergence of CG."
   ]
  },
  {
   "cell_type": "code",
   "execution_count": 13,
   "metadata": {},
   "outputs": [],
   "source": [
    "# set up a mesh of DOF 40 * 40\n",
    "nx = 40\n",
    "K, xi, yi = laplace_matrix(nx, nx, Lx, Ly)\n",
    "n = nx**2\n",
    "K = K + sp.eye(n)\n",
    "s = s_function(xi, yi)"
   ]
  },
  {
   "cell_type": "code",
   "execution_count": 14,
   "metadata": {},
   "outputs": [
    {
     "name": "stdout",
     "output_type": "stream",
     "text": [
      "For omegas: [0.5        0.57777778 0.65555556 0.73333333 0.81111111 0.88888889\n",
      " 0.96666667 1.04444444 1.12222222 1.2        1.27777778 1.35555556\n",
      " 1.43333333 1.51111111 1.58888889 1.66666667 1.74444444 1.82222222\n",
      " 1.9       ]\n",
      "Required SSOR iterations: [70, 65, 60, 55, 52, 55, 52, 48, 44, 41, 39, 37, 36, 35, 34, 33, 34, 35, 39]\n"
     ]
    },
    {
     "data": {
      "image/png": "[encoded data removed]",
      "text/plain": [
       "<Figure size 432x288 with 1 Axes>"
      ]
     },
     "metadata": {
      "needs_background": "light"
     },
     "output_type": "display_data"
    }
   ],
   "source": [
    "# finding the optimal omega for this mesh size, borrow from lecture-5\n",
    "omegas = np.linspace(0.5,1.9,19)\n",
    "its_ssor = []\n",
    "for omega in omegas:\n",
    "    counter = SimpleCounter()\n",
    "    x, info_cg = spl.cg(K,s, tol=1e-5, callback=counter, M=SSORPreconditioner(K, omega=omega))\n",
    "    its_ssor.append(counter.count)\n",
    "    \n",
    "print(\"For omegas:\", omegas)\n",
    "print(\"Required SSOR iterations:\", its_ssor)\n",
    "plt.plot(omegas, its_ssor, '.-')\n",
    "plt.xlabel('omega $\\omega$')\n",
    "plt.ylabel('Iterations');"
   ]
  },
  {
   "cell_type": "markdown",
   "metadata": {},
   "source": [
    "From the result, we can see an $\\omega$ value between $[1,4, 1.8]$ may perform better than others. "
   ]
  },
  {
   "cell_type": "markdown",
   "metadata": {},
   "source": [
    "### Algebraic Multigrid Preconditioner (borrowed from lecture-5)\n",
    "\n",
    "(Paraphrasing from lecture-5)\n",
    "Multigrid methods are designed to also effectively handle the large scale component of the residual. We apply a smoother to our approximate solution, which means projecting it into a coarser grid, and also a residual on that coarser grid is computed. And then we apply a smoother but now on the coarse-grid residual, it will now also filter out some larger scale components of the residual. If we repeat this process, we could arrive at a grid that is so coarse with is not much difference anymore between the large scale and the grid scale.\n",
    "\n",
    "The Algebraic Multigrid (AMG) Preconditioner only takes the (Algebraic Properties of) discretised Matrix as input, without accessing the discretisation method used to assemble the original system.\n",
    "\n",
    "To implement the Algebraic Multigrid (AMG) Preconditioner, we need the `pyamg` package."
   ]
  },
  {
   "cell_type": "code",
   "execution_count": 15,
   "metadata": {},
   "outputs": [],
   "source": [
    "# borrow from lecture-5\n",
    "class AMGPreconditioner(Preconditioner):\n",
    "    \"\"\"AMG preconditioner - wraps around pyamg's ruge_stuben_solver\"\"\"\n",
    "    def __init__(self, A):\n",
    "        super().__init__(A)\n",
    "        ml = pyamg.ruge_stuben_solver(A.tocsr(), strength=('classical'))\n",
    "        self.gamg = ml.aspreconditioner()\n",
    "        \n",
    "    def __call__(self, r):\n",
    "        return self.gamg(r)"
   ]
  },
  {
   "cell_type": "markdown",
   "metadata": {},
   "source": [
    "Let's compare the iterations needed with those two Preconditioners, on same grid sizes as before : $10 \\times 10, \\, 20 \\times 20, \\, 40 \\times 40, \\, 80 \\times 80, \\,\\text{and} \\, 160 \\times 160 $. (for SSOR, we just taking $\\omega = 1.7$)"
   ]
  },
  {
   "cell_type": "code",
   "execution_count": 17,
   "metadata": {},
   "outputs": [
    {
     "name": "stdout",
     "output_type": "stream",
     "text": [
      "Iterations with unpreconditioned Conjugate Gradient: [14, 33, 65, 123, 232]\n",
      "Iterations with SSOR-preconditioned Conjugate Gradient (omega = 1.7): [15, 23, 33, 53, 87]\n",
      "Iterations with AMG-preconditioned Conjugate Gradient: [4, 4, 5, 7, 8]\n"
     ]
    }
   ],
   "source": [
    "# define two array to store iteration numbers for two preconditioners\n",
    "its_cg_SSOR =[]\n",
    "its_cg_AMG =[]\n",
    "for nx in nxs:\n",
    "    K, xi, yi = laplace_matrix(nx, nx, Lx, Ly)\n",
    "    n = nx**2\n",
    "    # note here c = 1\n",
    "    K = K + sp.eye(n)\n",
    "    s = s_function(xi, yi)\n",
    "    counter = SimpleCounter()\n",
    "    x, info_cg = spl.cg(K,s, tol=1e-5, callback=counter, M=SSORPreconditioner(K, omega=1.7))\n",
    "    its_cg_SSOR.append(counter.count)\n",
    "    counter = SimpleCounter()\n",
    "    x, info_cg = spl.cg(K,s, tol=1e-5, callback=counter, M=AMGPreconditioner(K))\n",
    "    its_cg_AMG.append(counter.count)\n",
    "    \n",
    "    \n",
    "\n",
    "print(\"Iterations with unpreconditioned Conjugate Gradient:\", its_cg)\n",
    "print(\"Iterations with SSOR-preconditioned Conjugate Gradient (omega = 1.7):\", its_cg_SSOR)\n",
    "print(\"Iterations with AMG-preconditioned Conjugate Gradient:\", its_cg_AMG )"
   ]
  },
  {
   "cell_type": "code",
   "execution_count": 18,
   "metadata": {},
   "outputs": [
    {
     "data": {
      "text/plain": [
       "<matplotlib.legend.Legend at 0x7f8d9bec41c0>"
      ]
     },
     "execution_count": 18,
     "metadata": {},
     "output_type": "execute_result"
    },
    {
     "data": {
      "image/png": "[encoded data removed]",
      "text/plain": [
       "<Figure size 1152x576 with 1 Axes>"
      ]
     },
     "metadata": {
      "needs_background": "light"
     },
     "output_type": "display_data"
    }
   ],
   "source": [
    "fig, ax = plt.subplots(1,1,figsize=(16,8))\n",
    "ax.loglog(ns, its_cg, '.-', label='Conjugate Gradient (unpreconditioned)')\n",
    "ax.loglog(ns, its_cg_SSOR, '.-', label=r'SSOR-preconditioned CG ($\\omega = 1.7$)')\n",
    "ax.loglog(ns, its_cg_AMG, '.-', label='AMG-preconditioned CG')\n",
    "ax.set_xlabel('Degrees of Freedom $n$')\n",
    "ax.set_ylabel('Iterations')\n",
    "annotation.slope_marker((7e3, 45), (0.5, 1), ax=ax,\n",
    "                        size_frac=.2, pad_frac=0.05, text_kwargs = dict(fontsize = 14))\n",
    "annotation.slope_marker((7e3, 115), (0.5, 1), ax=ax,\n",
    "                        size_frac=.2, pad_frac=0.05, text_kwargs = dict(fontsize = 14))\n",
    "ax.legend()"
   ]
  },
  {
   "cell_type": "markdown",
   "metadata": {},
   "source": [
    "From the plot we could observe that adding Preconditioners could reduce the number of iterations used for Conjugate Gradient. But more specifically, the iterations for SSOR-Preconditioner still has the same increasing rate as the unpreconditioned one. The AMG-Preconditioner use far more fewer iterations than those two, and also it is quite stable, not showing a significant increasing rate with the Degrees of Freedom $n$."
   ]
  },
  {
   "cell_type": "markdown",
   "metadata": {},
   "source": [
    "# Question B3\n",
    "\n",
    "We now modify the PDE through the addition of a nonlinear term:\n",
    "    \n",
    "$$\n",
    "  -\\alpha\\frac{\\partial^2 u(x,y)}{\\partial x^2} - \\alpha\\frac{\\partial^2 u(x,y)}{\\partial y^2} + u + \\arctan(u) = s(x,y)\n",
    "$$\n",
    "\n",
    "where we have also introduced a new scalar coefficient $\\alpha$ to scale the Laplacian term. In this, and all of the following questions use $\\alpha=10^{-1}$.\n",
    "\n",
    "A discrete solution can be obtained by solving the nonlinear system of equations\n",
    "\n",
    "$$\n",
    "  {\\mathbf F}({\\mathbf u}) = \\alpha\\underline{\\mathbf K} {\\mathbf u}\n",
    "  + {\\mathbf u}\n",
    "  +  \\arctan(\\mathbf{u})\n",
    "  - {\\mathbf s} = {\\mathbf 0}\n",
    "$$\n",
    "\n",
    "where $\\underline{\\mathbf K}$ is the same discrete Laplace matrix as before, $\\mathbf u$ and $\\mathbf s$ are vectors that contain the numerical solution, and the source term at the grid points. $\\arctan(\\mathbf{u})$ is the vector calculated as the $\\arctan$ function applied to every component of $\\mathbf u$ (use [`numpy.arctan`](https://numpy.org/doc/stable/reference/generated/numpy.arctan.html) in your implementation).\n",
    "\n",
    "We use a source term of the form\n",
    "\n",
    "$$\n",
    "  s(x, y) = \\left(\\alpha 8\\pi^2 + 1\\right) \\cos(2\\pi x)\\cos(2\\pi y) + \\arctan(\\cos(2\\pi x) \\cos(2\\pi y))\n",
    "$$\n",
    "\n",
    "so that the (continuous) nonlinear PDE has the same analytical solution as previously:\n",
    "\n",
    "$$\n",
    "  u(x,y) = \\cos(2\\pi x) \\cos(2\\pi y)\n",
    "$$"
   ]
  },
  {
   "cell_type": "markdown",
   "metadata": {},
   "source": [
    "* Implement the nonlinear, discretised PDE model, by solving the root-finding problem ${\\mathbf F}({\\mathbf u})={\\mathbf 0}$ using Broyden's method. To do this, implement a python function `F(u)` that takes in a numpy array representing the numerical solution ${\\mathbf u}$, and returns a numpy array with the values of ${\\mathbf F}({\\mathbf u})$. Then solve the non linear system of equations using\n",
    "```python\n",
    "    result = scipy.optimize.root(F, u0, method='broyden1', options={'disp': True, 'ftol': 1e-5, 'maxiter': 2000})\n",
    "```\n",
    "where `u0` is a reasonable initial guess (you could use ${\\mathbf u_0}={\\mathbf 0}$). Use either Broyden's good (`method=broyden1`) or Broyden's bad method (`method='broyden2'`). Carefully inspect the returned `result` dictionary as the method will not always be succesful! See https://docs.scipy.org/doc/scipy/reference/generated/scipy.optimize.root.html and https://docs.scipy.org/doc/scipy/reference/optimize.root-broyden1.html for more documentation, but the options indicated above should suffice.<br>\n",
    "Test the solver on a number of small meshes, e.g. $n=5 \\times 5, n=10\\times 10, n=20\\times 20, \\dots$ that can be run in a reasonable amount of time. You do not need to time your solves, but each solve should take no longer than a few minutes. Show that you have checked you obtain an accurate solution. What do you observe as the grid resolution increases? (include number of iterations in your observation).\n",
    "\n",
    "---"
   ]
  },
  {
   "cell_type": "markdown",
   "metadata": {},
   "source": [
    "## Answer for B3\n",
    "\n",
    "First, we define $\\alpha$ value as well as the source term for this question\n",
    "\n",
    "$$\n",
    "  s(x, y) = \\left(\\alpha 8\\pi^2 + 1\\right) \\cos(2\\pi x)\\cos(2\\pi y) + \\arctan(\\cos(2\\pi x) \\cos(2\\pi y))\n",
    "$$"
   ]
  },
  {
   "cell_type": "code",
   "execution_count": 19,
   "metadata": {},
   "outputs": [],
   "source": [
    "alpha = 1e-1\n",
    "coeff = alpha * 8 * np.pi **2 + 1"
   ]
  },
  {
   "cell_type": "code",
   "execution_count": 20,
   "metadata": {},
   "outputs": [],
   "source": [
    "def s_function(xi, yi):\n",
    "    mult = np.cos(2 * np.pi * xi) * np.cos(2 * np.pi * yi)\n",
    "    return coeff * mult + np.arctan(mult) "
   ]
  },
  {
   "cell_type": "markdown",
   "metadata": {},
   "source": [
    "Then we should define ${\\mathbf F}$, which takes $\\underline{\\mathbf K}, \\mathbf u, \\mathbf s $ as argument:\n",
    "$$\n",
    "  {\\mathbf F}({\\mathbf u}) = \\alpha\\underline{\\mathbf K} {\\mathbf u}\n",
    "  + {\\mathbf u}\n",
    "  +  \\arctan(\\mathbf{u})\n",
    "  - {\\mathbf s}\n",
    "$$"
   ]
  },
  {
   "cell_type": "code",
   "execution_count": 21,
   "metadata": {},
   "outputs": [],
   "source": [
    "def F(u):\n",
    "    return alpha * K @ u + u + np.arctan(u) - s"
   ]
  },
  {
   "cell_type": "markdown",
   "metadata": {},
   "source": [
    "Next, we would like to implement Broyden's good method and Broyden's bad method to solve $$\n",
    "  {\\mathbf F}({\\mathbf u}) = 0\n",
    "$$\n",
    "\n",
    "We solve this problem for a series of some small grid sizes : $5 \\times 5, 10 \\times 10, \\, 15 \\times 15, \\, 20 \\times 20, \\, 25 \\times 25, \\, 30 \\times 30 \\, \\text{and} \\, 35 \\times 35$, with the corresponding Degrees of Freedom $n$ is $25, 100, 225, 400, 625, 900 \\,\\text{and}\\, 1225$.  <br>\n",
    "Also, we will compute the RMS error of our solution with the exact solution \n",
    "$$\n",
    "  u(x,y) = \\cos(2\\pi x) \\cos(2\\pi y)\n",
    "$$\n",
    "\n",
    "***Note: this cell takes a few minutes to run!***"
   ]
  },
  {
   "cell_type": "code",
   "execution_count": 22,
   "metadata": {},
   "outputs": [],
   "source": [
    "# the array of mesh sizes we use\n",
    "nxs = [5, 10, 15, 20, 25, 30, 35]\n",
    "ns =[]\n",
    "\n",
    "# create arrays to store the RMS error and iterations\n",
    "its_broyden1 = []\n",
    "its_broyden2 = []\n",
    "RMS_error_broyden1 = []\n",
    "RMS_error_broyden2 = []\n",
    "\n",
    "for nx in nxs:\n",
    "    K, xi, yi = laplace_matrix(nx, nx, Lx, Ly)\n",
    "    n = nx**2\n",
    "    ns.append(n)\n",
    "    s = s_function(xi, yi)\n",
    "    # just set a casual initial guess, u0 = 0\n",
    "    u0 = np.zeros(n)\n",
    "    \n",
    "    # some parameters to record features\n",
    "    res = 0\n",
    "    success_times = 0\n",
    "    its = 0\n",
    "    # run 5 times with Broyden's good method, and take the average iterations and RMS error \n",
    "    while(success_times < 5):\n",
    "        result = sop.root(F, u0, method='broyden1', options={'disp': False, 'ftol': 1e-5, 'maxiter': 5000})\n",
    "        if(result.success):\n",
    "            success_times += 1\n",
    "            its += result.nit\n",
    "            res += la.norm(u_exact(xi, yi) - result.x)/ n\n",
    "    \n",
    "    its_broyden1.append(its / 5)\n",
    "    RMS_error_broyden1.append(res / 5)\n",
    "    \n",
    "    # some parameters to record features\n",
    "    res = 0\n",
    "    success_times = 0\n",
    "    its = 0\n",
    "    # run 5 times with Broyden's bad method, and take the average iterations and RMS error     \n",
    "    while(success_times < 5):\n",
    "        result = sop.root(F, u0, method='broyden2', options={'disp': False, 'ftol': 1e-5, 'maxiter': 5000})\n",
    "        if(result.success):\n",
    "            success_times += 1\n",
    "            its += result.nit\n",
    "            res += la.norm(u_exact(xi, yi) - result.x)/ n\n",
    "    \n",
    "    its_broyden2.append(its / 5)\n",
    "    RMS_error_broyden2.append(res / 5)   "
   ]
  },
  {
   "cell_type": "code",
   "execution_count": 23,
   "metadata": {},
   "outputs": [
    {
     "name": "stdout",
     "output_type": "stream",
     "text": [
      "RMS error for good-broyden: [0.10324771885010837, 0.017003595890339195, 0.006581003024277195, 0.003454318678577535, 0.00212125390668733, 0.0014332681612688463, 0.0010327018927054567]\n",
      "RMS error for bad-broyden: [0.10324770638417144, 0.017003573643050204, 0.006581002728076471, 0.0034543186821722706, 0.0021212543336032626, 0.001433268324187845, 0.001032702425729079]\n"
     ]
    }
   ],
   "source": [
    "# observations in my trial, use them in case you clear the results from the last cell\n",
    "# RMS_error_broyden1 = [0.10324771885010837, 0.017003595890339195, 0.006581003024277195, 0.003454318678577535, 0.00212125390668733, 0.0014332681612688463, 0.0010327018927054567]\n",
    "# RMS_error_broyden2 = [0.10324770638417144, 0.017003573643050204, 0.006581002728076471, 0.0034543186821722706, 0.0021212543336032626, 0.001433268324187845, 0.001032702425729079]\n",
    "\n",
    "print(\"RMS error for good-broyden:\", RMS_error_broyden1)\n",
    "print(\"RMS error for bad-broyden:\", RMS_error_broyden2)"
   ]
  },
  {
   "cell_type": "markdown",
   "metadata": {},
   "source": [
    "We see the RMS Error for our solutions get by Broyden's good method and Broyden's bad method decrease as the mesh becomes finer, which means we have obtained accurate solutions."
   ]
  },
  {
   "cell_type": "markdown",
   "metadata": {},
   "source": [
    "Next, we would like to make a log-log plot for iteration numbers for those two Broyden's method w.r.t different Degrees of Freedom $n$."
   ]
  },
  {
   "cell_type": "code",
   "execution_count": 24,
   "metadata": {},
   "outputs": [
    {
     "data": {
      "text/plain": [
       "<matplotlib.legend.Legend at 0x7f8d9c237f10>"
      ]
     },
     "execution_count": 24,
     "metadata": {},
     "output_type": "execute_result"
    },
    {
     "data": {
      "image/png": "[encoded data removed]",
      "text/plain": [
       "<Figure size 1152x576 with 1 Axes>"
      ]
     },
     "metadata": {
      "needs_background": "light"
     },
     "output_type": "display_data"
    }
   ],
   "source": [
    "# observations in my trial, use them in case you clear the results from the last cell\n",
    "# its_broyden1 = [53.0, 116.0, 603.0, 1246.0, 2515.0, 3272.0, 4085.0]\n",
    "# its_broyden2 = [23.0, 47.0, 116.0, 228.0, 1896.0, 3287.0, 4759.0]\n",
    "\n",
    "# Degree of Freedoms\n",
    "ns = [25, 100, 225, 400, 625, 900, 1225]\n",
    "\n",
    "fig, ax = plt.subplots(1,1,figsize=(16,8))\n",
    "ax.loglog(ns, its_broyden1, '.-', label=\"'Broyden's good method\")\n",
    "ax.loglog(ns, its_broyden2, '.-', label=\"'Broyden's bad method\")\n",
    "ax.set_title(\"Iterations for Broyden's good (bad) method (avarage in 5 runs)\")\n",
    "ax.set_xlabel('Degrees of Freedom $n$')\n",
    "ax.set_ylabel('Iterations (avarage)')\n",
    "annotation.slope_marker((1.7e2, 2.45e2), (1, 1), ax=ax,\n",
    "                        size_frac=.2, pad_frac=0.05, text_kwargs = dict(fontsize = 14))\n",
    "ax.legend()"
   ]
  },
  {
   "cell_type": "markdown",
   "metadata": {},
   "source": [
    "Through the log-log plot, we could conclude that though the complexity of iterations used for  Broyden's good (bad) method are not strictly proportional to some order of $n$, but it's (very) roughly about $O(n)$ in this small scale of $n$ s we have experimented."
   ]
  },
  {
   "cell_type": "markdown",
   "metadata": {},
   "source": [
    "# Question B4\n",
    "\n",
    "In the lectures we have seen the importance of providing gradient information to the nonlinear solver algorithms. The derivative (Jacobian matrix) for the function ${\\mathbf F}(\\mathbf u)$ is given by\n",
    "\n",
    "$$\n",
    "  \\frac{\\partial {\\mathbf F}({\\mathbf u})}{\\partial {\\mathbf u}} = \\alpha\\underline{\\mathbf K} + \\underline{\\mathbf I} +  \\underline{\\textbf{diag}}\\left(\\frac{1}{1+{\\mathbf u}^2}\\right)\n",
    "$$\n",
    "\n",
    "where $\\underline{\\textbf{diag}}\\left( \\frac{1}{1+{\\mathbf u}^2} \\right)$ is the diagonal matrix with the values $1/(1+u_i^2)$ along the main diagonal, where $u_i$ are the components of $\\mathbf u$ (hint: use `scipy.sparse.diags(1/(1+u**2), format='csr')`).\n",
    "\n",
    "\n",
    "Moreover, we can derive that the vector function ${\\mathbf F}(\\mathbf u)$ is itself the derivative of a scalar function $f(\\mathbf u)$\n",
    "\n",
    "$$\n",
    "  f({\\mathbf u}) = \\tfrac 12 \\alpha{\\mathbf u^T} \\underline{\\mathbf K} {\\mathbf u} \n",
    "  + \\tfrac 12  {\\mathbf u^T} {\\mathbf u}\n",
    "  +  {\\mathbf u^T} \\arctan({\\mathbf u}) \n",
    "  - \\tfrac 12 \\sum_{i=1}^n \\log(u_i^2+1)\n",
    "  - {\\mathbf u^T} {\\mathbf s}\n",
    "$$\n",
    "\n",
    "so that we can formulate the root-finding problem $\\mathbf{F}(\\mathbf{u})=\\mathbf{0}$ as minimisation problem for $f$ with Jacobian (of f):\n",
    "\n",
    "$$\n",
    "  f'(\\mathbf{u}) = \\frac{\\partial {\\mathbf f}({\\mathbf u})}{\\partial {\\mathbf u}} = {\\mathbf F}({\\mathbf u}) = \\alpha\\underline{\\mathbf K} {\\mathbf u}\n",
    "  +  {\\mathbf u}\n",
    "  +  \\arctan(\\mathbf{u})\n",
    "  - {\\mathbf s}\n",
    "$$\n",
    "\n",
    "and Hessian:\n",
    "\n",
    "$$\n",
    "  f''(\\mathbf{u}) = \\frac{\\partial^2 {\\mathbf f}({\\mathbf u})}{\\partial {\\mathbf u}^2} = {\\mathbf F'}({\\mathbf u})  = \\frac{\\partial {\\mathbf F}({\\mathbf u})}{\\partial {\\mathbf u}} = \\alpha\\underline{\\mathbf K} + \\underline{\\mathbf I} +  \\underline{\\textbf{diag}}\\left(\\frac{1}{1+{\\mathbf u}^2}\\right)\n",
    "$$\n"
   ]
  },
  {
   "cell_type": "markdown",
   "metadata": {},
   "source": [
    "* What mathematical property can you derive for the Hessian matrix $f''(\\mathbf{u})$ and what consequence does this have for the optimisation problem?"
   ]
  },
  {
   "cell_type": "markdown",
   "metadata": {},
   "source": [
    "## Answer for B4\n",
    "\n",
    "Property: <br>\n",
    "The Hessian matrix $f''(\\mathbf{u})$ is Symmetric Positive Definite (SPD), independent of $\\mathbf{u}$.\n",
    "Or equivalently, $\\,f''$ is SPD in $\\mathbb{R}^n$ for any Degrees of Freedom $n$.\n",
    "<br>\n",
    "<br>\n",
    "Proof:\n",
    "<br>\n",
    "1) In question **B1** we have proved that $\\forall \\, c \\gt 0,\\, \\underline{\\mathbf K} + c \\underline{\\mathbf I}$ is SPD, with the same reason $\\forall \\, \\alpha \\gt 0,\\, \\alpha \\underline{\\mathbf K} + \\underline{\\mathbf I}$ is SPD.\n",
    "<br>\n",
    "2) we can see that\n",
    "$$\n",
    "\\begin{aligned}\n",
    "\\forall  {\\bf v}\\in{\\mathbb{R}}^n,\\text{except } \\;{\\bf v}&=0 \\\\\n",
    "{\\bf v}^T \\underline{\\textbf{diag}}\\left(\\frac{1}{1+{\\mathbf u}^2}\\right)\n",
    "{\\bf v} &= {{\\bf v}}^T \\left(\\left(1+{\\mathbf u}^2\\right) {\\bf v}\\right)\\\\\n",
    "&\\gt 0\n",
    "\\end{aligned}\n",
    "$$\n",
    "\n",
    "independent of choose of $\\mathbf u$. Thus, $\\underline{\\textbf{diag}}\\left(\\frac{1}{1+{\\mathbf u}^2}\\right)$ is SPD.\n",
    "<br>\n",
    "3) from 1) and 2), we can get \n",
    "$$\n",
    "  f''(\\mathbf{u}) = \\left(\\alpha\\underline{\\mathbf K} + \\underline{\\mathbf I}\\right) +  \\underline{\\textbf{diag}}\\left(\\frac{1}{1+{\\mathbf u}^2}\\right)\n",
    "$$\n",
    "\n",
    "is the summation of two SPD Matrices, so $f''(\\mathbf{u})$ is also SPD, $\\forall \\; \\mathbf{u} \\in \\mathbb{R}^n$.\n",
    "<br>\n",
    "<br>\n",
    "<u>The consequence for the optimisation problem</u>: <br> <br>\n",
    "1) As the Hessian matrix $f''$ being SPD in $\\mathbb{R}^n$, then from theorem in lecture-6:<br>\n",
    "* \"functions with a convex domain which are twice continuously differentiable are convex if and only if the Hessian is Positive Semidefinite in the interior of its domain.\" <br> \n",
    "\n",
    "as well as the definition of a function being **strictly convex**, it's sufficient to say that $f$ is **strictly convex** in the region $\\mathbb{R}^n$. <br><br>\n",
    "2) For some point \n",
    "<br>\n",
    "<br>\n",
    "$$\n",
    "{\\bf x}^* \\in \\mathbb{R}^n, \\, f'({\\bf x}^*)={\\bf 0} \\, \\implies \\; {\\bf x}^* \\text{ is a strict local minimum.}\n",
    "$$\n",
    "<br>\n",
    "<br>\n",
    "because the Hessian at some point $f''({\\bf x}^*)$ is always Symmetric Positive Definite (SPD).\n",
    "<br><br>\n",
    "\n",
    "3) We also recall the following theorem from lecture-6:<br>\n",
    "* \"Any local minimum of a convex function is a global minimum. If the function is **strictly convex** (this means the interpolated values along a line are strictly above (not equal) to the function values), then the global minimum is attained in a single point only.\" <br>\n",
    "<br>\n",
    "\n",
    "***Conclusion***: <br>\n",
    "Combine 1), 2) and 3), we can conclude that if there  $\\exists \\; {\\bf x}^* \\in \\mathbb{R}^n$ , s.t $f'({\\bf x}^*) = \\mathbf F({\\bf x}^*) = \\bf{0}$,  then $f$ attains its **<font color=#FF0000> global minimum </font>** for $\\mathbb{R}^n$ in this single point ${\\bf x}^*$ only.\n"
   ]
  },
  {
   "cell_type": "markdown",
   "metadata": {},
   "source": [
    "* Implement the python functions `f(u)`, and `hess(u)` which take the numerical solution $\\mathbf{u}$ and return respectively the function value $f(\\mathbf{u})$, and the Hessian $f''(\\mathbf{u})$ as a scipy `csr_matrix`. \n",
    "Test that indeed `F(u)` is the derivative of `f(u)`, and that `hess(u)` is the derivative of `F(u)`. For this you may use the `taylor_test` code from lecture 4, but you will have to adjust it to make it work with csr matrices to test `hess(u)`."
   ]
  },
  {
   "cell_type": "markdown",
   "metadata": {},
   "source": [
    "According to the fomulas given in this question, we implement `f(u)` and `hess(u)` as following (Note `F(u)` and`S(x, y)` is the same as in Question B3):"
   ]
  },
  {
   "cell_type": "code",
   "execution_count": 25,
   "metadata": {},
   "outputs": [],
   "source": [
    "def f(u):\n",
    "    return 1/2 * (alpha * u.T @ K @ u + u.T @ u) + u.T @ np.arctan(u) - 1/2 * np.sum(np.log(u**2 + 1)) - u.T @ s\n",
    "\n",
    "def hess(u):\n",
    "    H = sp.diags(1/(1+u**2), format='csr')\n",
    "    return alpha * K + sp.eye(n) + H"
   ]
  },
  {
   "cell_type": "markdown",
   "metadata": {},
   "source": [
    "To check that indeed `F(u)` is the derivative of `f(u)`, and that `hess(u)` is the derivative of `F(u)`, we need the \n",
    "**taylor_test** method.\n",
    "\n",
    "We define the Taylor residual (of order 2):\n",
    "\n",
    "$$\n",
    "  r({\\bf h}) = f({\\bf x} + {\\bf h}) - f({\\bf x}) - f'({\\bf x})\\cdot{\\bf h}\n",
    "$$\n",
    "By Taylor expansion, we know $|r({\\bf h})| \\leq C\\|{\\bf h}\\|^2$. <br> <br>\n",
    "So if we have correctly derive a function $\\mathbf{F}({\\bf x})$ that computes the derivative $f'({\\bf x})$, and we use this to compute $r({\\bf h})$, we should have\n",
    "\n",
    "$$\n",
    "\\begin{aligned}\n",
    "|r({\\bf h})| &\\leq C\\|{\\bf h}\\|^2\\\\\n",
    "\\left|f({\\bf x} + {\\bf h}) - f({\\bf x}) - \\mathbf{F}({\\bf x})\\cdot{\\bf h} \\right| &\\leq C\\|{\\bf h}\\|^2\\;\\;\\text{ for small enough }{\\bf h}  \n",
    "\\end{aligned}\n",
    "$$\n",
    "<br>\n",
    "<br>\n",
    "One problem with these sorts of tests is that we don't necessarily know what a small enough ${\\bf h}$ is before this assymptotic behaviour becomes clear. We could consider a series of \n",
    "\n",
    "$$\n",
    "  \\newcommand\\fac{\\mathcal{F}}\n",
    "  {\\bf h}_k= \\frac{{\\bf h}_0}{\\fac^k},\n",
    "$$\n",
    "\n",
    "where we divide $h_k$ by a factor of $\\fac$ (usually $\\fac=2$) each time. It is then possible to show that\n",
    "\n",
    "$$\n",
    "  \\lim_{k\\to\\infty} \\frac{r({\\bf h}_k)}{r({\\bf h}_{k+1})} \\geq \\fac^2\n",
    "$$\n",
    "\n",
    "If we take $\\log$ of this series, we get\n",
    "\n",
    "$$\n",
    "  \\lim_{k\\to\\infty} \\frac{\\log\\left(\\frac{r({\\bf h}_k)}{r({\\bf h}_{k+1})}\\right)}{\\log(\\fac)} \\geq 2\n",
    "$$\n",
    "\n",
    "We should keep dividing by a factor of $\\fac$ until it reaches 2. We typically allow for some round off error and allow a value close to 2."
   ]
  },
  {
   "cell_type": "markdown",
   "metadata": {},
   "source": [
    "<br>\n",
    "For the implementation of this method, we borrow the `taylor_test` code from lecture-4, we adjusted it a bit to make it work with csr matrices to test `hess(u)`, and here we take $\\fac = 2$."
   ]
  },
  {
   "cell_type": "code",
   "execution_count": 26,
   "metadata": {},
   "outputs": [],
   "source": [
    "# borrow from lecture-4\n",
    "def taylor_test(f, grad_f, x, h0, max_iter=20, plot_convergence=True, print_convergence=True):\n",
    "    \"\"\"Taylor test to verify that the function grad_f is the derivative of the function `f`\n",
    "    \n",
    "    We test:\n",
    "    \n",
    "       f(x + h) = f(x) + grad_f(x).h + O(h^2)\n",
    "    \n",
    "    f, grad_f  - function and its derivative to test\n",
    "    x          - point in which to test\n",
    "    h0         - initial perturbation\n",
    "    max_iter   - number of times that h is halved\n",
    "    plot_convergence - whether to plot the convergence of the Taylor residual f(x+h)-f(x)-grad_f(x).h\n",
    "    print_convergence - prints the order of convergence between subsequent iterations.\"\"\"\n",
    "\n",
    "    h = h0.copy()\n",
    "    residuals = []\n",
    "    hnorms = []\n",
    "    # these two stay the same, so we can compute them outside the loop:\n",
    "    dfdx = grad_f(x)\n",
    "    fx = f(x)\n",
    "    \n",
    "    for i in range(max_iter):\n",
    "        # we altered the original code \"np.sum(dfdx * h)\" of this line to \"dfdx @ h\"\n",
    "        # because the dimensional multiplication dfdx * h \n",
    "        # does not work for dfdx = Hessian (shape(n, n)) with fx = F(x) (shape (n, 1))\n",
    "        r = f(x + h) - fx - dfdx @ h \n",
    "        residuals.append(sl.norm(r))\n",
    "        hnorms.append(sl.norm(h))\n",
    "        h /= 2.\n",
    "\n",
    "    if plot_convergence:\n",
    "        fig, ax = plt.subplots(1,2, figsize=(16,4))\n",
    "        ax[0].semilogy(residuals)\n",
    "        ax[0].set_xlabel('iteration')\n",
    "        ax[0].set_ylabel('Taylor residual $|r|$')\n",
    "        ax[0].set_xticks(range(0, max_iter,2))\n",
    "        ax[1].loglog(hnorms, residuals)\n",
    "        ax[1].set_xlabel('perturbation size $\\|h\\|$')\n",
    "        ax[1].set_ylabel('Taylor residual $|r|$')\n",
    "\n",
    "        # NOTE: slope_marker does not seem to work in semilogy plots\n",
    "        annotation.slope_marker((3/2 * hnorms[-1], residuals[-1]), (2, 1), invert=False, ax=ax[1], size_frac=.2)\n",
    "\n",
    "    if print_convergence:\n",
    "        residuals = np.array(residuals)\n",
    "        print('Order of convergence, log(r(h_i)/r(h_{i+1}))/log(2):')\n",
    "        print(np.log(residuals[:-1]/residuals[1:])/np.log(2))"
   ]
  },
  {
   "cell_type": "markdown",
   "metadata": {},
   "source": [
    "Apply the **Taylor test** to test that `F(u)` is the derivative of `f(u)`, on a grid of $50 \\times 50$:"
   ]
  },
  {
   "cell_type": "code",
   "execution_count": 29,
   "metadata": {},
   "outputs": [
    {
     "name": "stdout",
     "output_type": "stream",
     "text": [
      "Order of convergence, log(r(h_i)/r(h_{i+1}))/log(2):\n",
      "[1.99958844 1.999789   1.99989685 1.99994962 1.9999752  1.9999877\n",
      " 1.99999388 1.99999695 1.99999848 1.99999924 1.99999962 1.99999982\n",
      " 1.9999999  2.00000013 2.00000003 2.00000155 2.00001178 2.00002905\n",
      " 2.00016774]\n"
     ]
    },
    {
     "data": {
      "image/png": "[encoded data removed]",
      "text/plain": [
       "<Figure size 1152x288 with 2 Axes>"
      ]
     },
     "metadata": {
      "needs_background": "light"
     },
     "output_type": "display_data"
    }
   ],
   "source": [
    "# we test the derivative F of f for mesh size of 60 * 60\n",
    "nx = 50\n",
    "K, xi, yi = laplace_matrix(nx, nx, Lx, Ly)\n",
    "n = nx**2\n",
    "s = s_function(xi, yi)\n",
    "\n",
    "# the u0 should be random choosed, as long as it's a valid derivative in the whole region.\n",
    "u0 = np.random.random(n)\n",
    "\n",
    "# the perturbation h0 can also be random choosed, as long as it's getting smaller and smaller.\n",
    "h0 = np.random.random(n)\n",
    "\n",
    "taylor_test(f, F, u0, h0)"
   ]
  },
  {
   "cell_type": "markdown",
   "metadata": {},
   "source": [
    "Apply the **Taylor test** to test that `hess(u)` is the derivative of `F(u)`, on a grid of $60 \\times 60$:"
   ]
  },
  {
   "cell_type": "code",
   "execution_count": 30,
   "metadata": {},
   "outputs": [
    {
     "name": "stdout",
     "output_type": "stream",
     "text": [
      "Order of convergence, log(r(h_i)/r(h_{i+1}))/log(2):\n",
      "[1.95108559 2.00957036 2.01554778 2.01059382 2.00600459 2.00317874\n",
      " 2.00163338 2.00082767 2.00041658 2.00020897 2.00010457 2.00005212\n",
      " 2.00002559 2.00000946 1.99999212 1.99996016 1.99968241 1.99898418\n",
      " 1.97687694]\n"
     ]
    },
    {
     "data": {
      "image/png": "[encoded data removed]",
      "text/plain": [
       "<Figure size 1152x288 with 2 Axes>"
      ]
     },
     "metadata": {
      "needs_background": "light"
     },
     "output_type": "display_data"
    }
   ],
   "source": [
    "# we test the derivative hess of F for mesh size of 60 * 60\n",
    "nx = 50\n",
    "K, xi, yi = laplace_matrix(nx, nx, Lx, Ly)\n",
    "n = nx**2\n",
    "s = s_function(xi, yi)\n",
    "\n",
    "# the u0 should be random choosed, as long as it's a valid derivative in the whole region.\n",
    "u0 = np.random.random(n)\n",
    "\n",
    "# the perturbation h0 can also be random choosed, as long as it's getting smaller and smaller.\n",
    "h0 = np.random.random(n)\n",
    "\n",
    "taylor_test(F, hess, u0, h0)"
   ]
  },
  {
   "cell_type": "markdown",
   "metadata": {},
   "source": [
    "If we omit some round-off error, we can conclude that the function `F(u)` is indeed the derivative of `f(u)`, and that `hess(u)` is indeed the derivative of `F(u)`, as $$ \\frac{\\log\\left(\\frac{r({\\bf h}_k)}{r({\\bf h}_{k+1})}\\right)}{\\log(2)}$$ is getting close to 2."
   ]
  },
  {
   "cell_type": "markdown",
   "metadata": {},
   "source": [
    "* Solve the minimisation problem, finding the minimum of $f(\\mathbf{u})$ using [`scipy.minimize`](https://docs.scipy.org/doc/scipy/reference/generated/scipy.optimize.minimize.html):\n",
    "\n",
    "```python\n",
    "   result = scipy.optimize.minimize(f, u0, jac=F, method='bfgs', options={'gtol': 1e-5})\n",
    "```\n",
    "\n",
    "for a range of resolutions: hopefully a slightly larger range than in the question B4, but again limit the range to what can be solved in a few minutes. Again carefully inspect the `result` dictionary to ensure the solve has succeeded. To provide Hessian information (for those algorithms that use it), use the `hessp` argument to provide the function\n",
    "\n",
    "```python\n",
    "   def hessp(u, p):\n",
    "        return hess(u) @ p\n",
    "```\n",
    "\n",
    "that performs the matrix-vector multiplication of the matrix returned by the function `hess(u)` from the previous question, and the provided vector (numpy array) `p`. Compare the required number of iterations for the methods `bfgs`, `l-bfgs-b`, and `trust-ncg`. To allow for a fair comparison use the same absolute gradient tolerance:\n",
    "\n",
    "$$\n",
    "  \\| {\\bf f}'({\\bf u} \\| \\lt \\varepsilon_{\\text{abs}}=10^{-5}\n",
    "$$\n",
    "\n",
    "Note: with `l-bfgs-b` you will have to provide `'ftol': 0.` in addition to `'gtol': 1e-5` to avoid it sometimes stopping early based on a different stopping criterium:\n",
    "\n",
    "```python\n",
    "   result = scipy.minimize(f, u0, jac=F, method='l-bfgs-b', options={'ftol': 0., 'gtol': 1e-5})\n",
    "```\n",
    "\n",
    "Can you explain the difference in performance using what you know about the differences between the algorithms?\n",
    "\n",
    "---"
   ]
  },
  {
   "cell_type": "markdown",
   "metadata": {},
   "source": [
    "Define the `hessp` argument for use:"
   ]
  },
  {
   "cell_type": "code",
   "execution_count": 31,
   "metadata": {},
   "outputs": [],
   "source": [
    "def hessp(u, p):\n",
    "    return hess(u) @ p"
   ]
  },
  {
   "cell_type": "markdown",
   "metadata": {},
   "source": [
    "Next we will solving the minimisation problem, finding the minimum of $f(\\bf u)$ with three methods `bfgs`, `l-bfgs-b`, and `trust-ncg`. We choose a series of grid size: $5 \\times 5, 10 \\times 10, \\, 20 \\times 20, \\, 40 \\times 40, \\, 60 \\times 60, \\, 80 \\times 80 \\, \\text{and} \\, 100 \\times 100$, with the corresponding Degrees of Freedom $n$ is $25, 100, 400, 1600, 3600, 6400 \\,\\text{and}\\, 10000$.  <br><br>\n",
    "We will record the iteration used and compute the RMS error of our solution (w.r.t the exact solution `u(x, y)`) in each run. Also, we record the function evaluations of function `f`, `F` and `hess` for further analysis."
   ]
  },
  {
   "cell_type": "code",
   "execution_count": 32,
   "metadata": {},
   "outputs": [],
   "source": [
    "# the array of mesh sizes we use\n",
    "nxs = [5, 10, 20, 40, 60, 80, 100]\n",
    "ns =[]\n",
    "\n",
    "# some arrays to store RMS errors for each method\n",
    "RMS_bfgs =[]\n",
    "RMS_l_bfgs_b =[]\n",
    "RMS_trust_ncg =[]\n",
    "\n",
    "# some arrays to store the iterations for each method use.\n",
    "its_bfgs =[]\n",
    "its_l_bfgs_b =[]\n",
    "its_trust_ncg =[]\n",
    "\n",
    "# array to store the function evaluations (f)\n",
    "nfev_bfgs =[]\n",
    "nfev_l_bfgs_b =[]\n",
    "nfev_trust_ncg =[]\n",
    "\n",
    "# array to store the Jocobian evaluations (F)\n",
    "njev_bfgs =[]\n",
    "njev_l_bfgs_b =[]\n",
    "njev_trust_ncg =[]\n",
    "\n",
    "#array to store Hessian evaluations for trust_ncg \n",
    "nhev_trust_ncg =[]"
   ]
  },
  {
   "cell_type": "markdown",
   "metadata": {},
   "source": [
    "We run 5 times with `l-bfgs-b` and `trust-ncg`, taking their average results."
   ]
  },
  {
   "cell_type": "code",
   "execution_count": 33,
   "metadata": {},
   "outputs": [],
   "source": [
    "for nx in nxs:\n",
    "    K, xi, yi = laplace_matrix(nx, nx, Lx, Ly)\n",
    "    n = nx**2\n",
    "    ns.append(n)\n",
    "    s = s_function(xi, yi)\n",
    "    \n",
    "    # just set a casual initial guess, u0 = 0\n",
    "    u0 = np.zeros(n)\n",
    "    \n",
    "    # some parameters to record features\n",
    "    res = 0\n",
    "    success_times = 0\n",
    "    its = 0\n",
    "    nfev = 0\n",
    "    njev = 0\n",
    "    # run 5 times with l-bfgs-b method, and take the average iterations and RMS error \n",
    "    while(success_times < 5):\n",
    "        result = sop.minimize(f, u0, jac=F, method='l-bfgs-b', options={'ftol': 0., 'gtol': 1e-5, 'disp': False})\n",
    "        if(result.success):\n",
    "            success_times += 1\n",
    "            its += result.nit\n",
    "            nfev += result.nfev\n",
    "            njev += result.njev\n",
    "            res += la.norm(u_exact(xi, yi) - result.x)/ n\n",
    "    \n",
    "    its_l_bfgs_b.append(its / 5)\n",
    "    nfev_l_bfgs_b.append(nfev / 5)\n",
    "    njev_l_bfgs_b.append(njev / 5)\n",
    "    RMS_l_bfgs_b.append(res / 5)\n",
    "    \n",
    "    # some parameters to record features\n",
    "    res = 0\n",
    "    success_times = 0\n",
    "    its = 0\n",
    "    nfev = 0\n",
    "    njev = 0\n",
    "    nhev = 0\n",
    "    # run 5 times with trust-ncg method, and take the average iterations and RMS error     \n",
    "    while(success_times < 5):\n",
    "        result = sop.minimize(f, u0, jac=F, hessp = hessp, method='trust-ncg', options={'gtol': 1e-5, 'disp': False})\n",
    "        if(result.success):\n",
    "            success_times += 1\n",
    "            its += result.nit\n",
    "            nfev += result.nfev\n",
    "            njev += result.njev\n",
    "            nhev += result.nhev\n",
    "            res += la.norm(u_exact(xi, yi) - result.x)/ n\n",
    "    \n",
    "    its_trust_ncg.append(its / 5)\n",
    "    nfev_trust_ncg.append(nfev / 5)\n",
    "    njev_trust_ncg.append(njev / 5)\n",
    "    nhev_trust_ncg.append(nhev / 5)\n",
    "    RMS_trust_ncg.append(res / 5)   "
   ]
  },
  {
   "cell_type": "markdown",
   "metadata": {},
   "source": [
    "The `BFGS` method infact takes a huge amount of time for a grid over $60 \\times 60$ in this question, so we just run one time for each size of grid. **Note: Do not try to run this cell if time is limited, it takes me half an hour.**"
   ]
  },
  {
   "cell_type": "code",
   "execution_count": 88,
   "metadata": {},
   "outputs": [],
   "source": [
    "for nx in nxs:\n",
    "    K, xi, yi = laplace_matrix(nx, nx, Lx, Ly)\n",
    "    n = nx**2\n",
    "    s = s_function(xi, yi)\n",
    "    \n",
    "    # just set a casual initial guess, u0 = 0\n",
    "    u0 = np.zeros(n)\n",
    "    \n",
    "    # run 1 time with bfgs method, as it is too time costy, and take the average iterations and RMS error \n",
    "    result = sop.minimize(f, u0, jac=F, method='bfgs', options={'gtol': 1e-5, 'disp': False})\n",
    "    its = result.nit\n",
    "    nfev = result.nfev\n",
    "    njev = result.njev\n",
    "    res = la.norm(u_exact(xi, yi) - result.x)/ n\n",
    "    \n",
    "    its_bfgs.append(its)\n",
    "    nfev_bfgs.append(nfev)\n",
    "    njev_bfgs.append(njev)\n",
    "    RMS_bfgs.append(res)"
   ]
  },
  {
   "cell_type": "markdown",
   "metadata": {},
   "source": [
    "The results by my run is stored in this cell, in case you clear (restart) the kernel:"
   ]
  },
  {
   "cell_type": "code",
   "execution_count": 119,
   "metadata": {},
   "outputs": [],
   "source": [
    "# RMS_bfgs = [0.10383446911145704, 0.017003595598044624, 0.0034543189456439916, 0.0007792482823381769, 0.00033487008919921846, 0.00018525304636346496, 0.0001173906070791042]\n",
    "# its_bfgs = [12, 53, 155, 354, 436, 496, 525]\n",
    "# nfev_bfgs = [16, 72, 196, 396, 472, 517, 538]\n",
    "# njev_bfgs = [16, 72, 196, 396, 472, 517, 538]"
   ]
  },
  {
   "cell_type": "code",
   "execution_count": 124,
   "metadata": {},
   "outputs": [
    {
     "name": "stdout",
     "output_type": "stream",
     "text": [
      "Degrees of Freedom:  [25, 100, 400, 1600, 3600, 6400, 10000]\n",
      "RMS error for BFGS:  [0.10383446911145704, 0.017003595598044624, 0.0034543189456439916, 0.0007792482823381769, 0.00033487008919921846, 0.00018525304636346496, 0.0001173906070791042]\n",
      "RMS error for L-BFGS-B:  [0.10324770003596354, 0.017003611210693523, 0.003454315606015705, 0.0007792503703009948, 0.00033487115137469006, 0.00018525278854252577, 0.00011739118359699076]\n",
      "RMS error for trust-ncg:  [0.10324767919894914, 0.0170035949196654, 0.003454318678840507, 0.0007792482376949746, 0.0003348700928081443, 0.00018525304943588244, 0.00011739060881934418]\n"
     ]
    }
   ],
   "source": [
    "print(\"Degrees of Freedom: \", ns)\n",
    "print(\"RMS error for BFGS: \", RMS_bfgs)\n",
    "print(\"RMS error for L-BFGS-B: \", RMS_l_bfgs_b)\n",
    "print(\"RMS error for trust-ncg: \", RMS_trust_ncg)"
   ]
  },
  {
   "cell_type": "markdown",
   "metadata": {},
   "source": [
    "We see the RMS Error for our solutions get by bfgs, l-bfgs-b and trust-ncg method decrease as the mesh becomes finer, which means our numerical solution is approaching the given exact solution $u(x, y)$.<br>\n",
    "Moreover, the RMS error vector for those three methods is almost the same, which means they almost got the same solution.<br>\n",
    "<br>\n",
    "Next, Let's make a log-log plot for the iterations used for those three method:"
   ]
  },
  {
   "cell_type": "code",
   "execution_count": 169,
   "metadata": {},
   "outputs": [
    {
     "data": {
      "text/plain": [
       "<matplotlib.legend.Legend at 0x7fb5b7a39400>"
      ]
     },
     "execution_count": 169,
     "metadata": {},
     "output_type": "execute_result"
    },
    {
     "data": {
      "image/png": "[encoded data removed]",
      "text/plain": [
       "<Figure size 1152x576 with 1 Axes>"
      ]
     },
     "metadata": {
      "needs_background": "light"
     },
     "output_type": "display_data"
    }
   ],
   "source": [
    "# its_bfgs = [12, 53, 155, 354, 436, 496, 525]\n",
    "fig, ax = plt.subplots(1,1,figsize=(16,8))\n",
    "ax.loglog(ns, its_bfgs, '.-', label=\"bfgs\")\n",
    "ax.loglog(ns, its_l_bfgs_b, '.-', label=\"l-bfgs-b\")\n",
    "ax.loglog(ns, its_trust_ncg, '.-', label=\"trust-ncg\")\n",
    "ax.set_title(\"Iterations used (avarage in 5 runs for l-bfgs-b, and trust-ncg, 1 run for bfgs)\")\n",
    "ax.set_xlabel('Degrees of Freedom $n$')\n",
    "ax.set_ylabel('Iterations (avarage)')\n",
    "annotation.slope_marker((1.05e2, 2.17e1), (0.5, 1), ax=ax,\n",
    "                        size_frac=.2, pad_frac=0.05, text_kwargs = dict(fontsize = 14))\n",
    "annotation.slope_marker((2.75e1, 1.25e1), (1, 1), ax=ax,\n",
    "                        size_frac=.2, pad_frac=0.05, text_kwargs = dict(fontsize = 14))\n",
    "ax.legend()"
   ]
  },
  {
   "cell_type": "markdown",
   "metadata": {},
   "source": [
    "From the log-log plot, we can observe that the `trust-ncg` method uses the least iterations comparing to other two methods. The `l-bfgs-s` uses more iterations than `trust-ncg` but less than `bfgs`.\n",
    "Also, we can observe that the increasing rate of iterations used by `bfgs` and `l-bfgs-s` are getting smaller as the degrees of freedom $n$ increases.<br>\n",
    "<br>\n",
    "Let's observe some other paramters, involving the function evaluation used for those methods:"
   ]
  },
  {
   "cell_type": "code",
   "execution_count": 125,
   "metadata": {},
   "outputs": [
    {
     "name": "stdout",
     "output_type": "stream",
     "text": [
      "Degrees of Freedom:  [25, 100, 400, 1600, 3600, 6400, 10000]\n",
      "-------------------------------------------------------------------------------------\n",
      "Iteration used for bfgs: [12, 53, 155, 354, 436, 496, 525]\n",
      "f evaluations for bfgs: [16, 72, 196, 396, 472, 517, 538]\n",
      "Jacobian evaluations for bfgs: [16, 72, 196, 396, 472, 517, 538]\n",
      "-------------------------------------------------------------------------------------\n",
      "Iteration used for l-bfgs-b: [11.0, 22.0, 50.0, 125.0, 184.0, 233.0, 271.0]\n",
      "f evaluations for l-bfgs-b: [12.0, 24.0, 57.0, 133.0, 193.0, 244.0, 283.0]\n",
      "Jacobian evaluations for l-bfgs-b: [12.0, 24.0, 57.0, 133.0, 193.0, 244.0, 283.0]\n",
      "-------------------------------------------------------------------------------------\n",
      "Iteration used for trust-ncg: [9.0, 11.0, 13.0, 16.0, 18.0, 20.0, 22.0]\n",
      "f evaluations for trust-ncg: [10.0, 12.0, 14.0, 17.0, 19.0, 21.0, 23.0]\n",
      "Jacobian evaluations for trust-ncg: [10.0, 12.0, 14.0, 17.0, 19.0, 21.0, 23.0]\n",
      "Hessian evaluations for trust-ncg: [27.0, 52.0, 113.0, 196.0, 326.0, 373.0, 500.0]\n"
     ]
    }
   ],
   "source": [
    "print(\"Degrees of Freedom: \", ns)\n",
    "print('-------------------------------------------------------------------------------------')\n",
    "print(\"Iteration used for bfgs:\", its_bfgs)\n",
    "print(\"f evaluations for bfgs:\", nfev_bfgs)\n",
    "print(\"Jacobian evaluations for bfgs:\", njev_bfgs)\n",
    "print('-------------------------------------------------------------------------------------')\n",
    "print(\"Iteration used for l-bfgs-b:\", its_l_bfgs_b)\n",
    "print(\"f evaluations for l-bfgs-b:\", nfev_l_bfgs_b)\n",
    "print(\"Jacobian evaluations for l-bfgs-b:\", njev_l_bfgs_b)\n",
    "print('-------------------------------------------------------------------------------------')\n",
    "print(\"Iteration used for trust-ncg:\", its_trust_ncg)\n",
    "print(\"f evaluations for trust-ncg:\", nfev_trust_ncg)\n",
    "print(\"Jacobian evaluations for trust-ncg:\", njev_trust_ncg)\n",
    "print(\"Hessian evaluations for trust-ncg:\",nhev_trust_ncg)"
   ]
  },
  {
   "cell_type": "markdown",
   "metadata": {},
   "source": [
    "### Some differences\n",
    "\n",
    "1) we could see that the number of Iterations for each method is almost equal to the number of $\\mathbf f$ evaluations and the number of Jacobian evaluations.<br> \n",
    "\n",
    "2) The number of iterations (function evaluations) of `l-bfgs-b` is less than `bfgs`, the possible reason is that `l-bfgs-b` borrows ideas from the trust region methods, adding some constraints when updating, which prevents $x$ goes too far in a wrong direction.<br>\n",
    "\n",
    "3) The number of iterations of `trust_ncg` is much less compared to the other two methods, and also has a very small increasing rate. Because in every step, it updates  ${\\bf x}^{(i+1)} = {\\bf x}^{(i)} + {\\bf p}$ with ${\\bf H}({\\bf x}^{(i)}) {\\bf p} = -{\\bf F}({\\bf x}^{(i)})$ given an exact Hessian matrix ${\\bf H}$,  which have a strict **quadratic** convergence to the stationary point. However, the Hessian evaluations it needs is quite large, as in the Trust Region Methods, it modifies the Hessian $$\n",
    "  \\mathbf H({\\bf x}_0) \\to \\mathbf H({\\bf x}_0) + \\mu\\underline{\\mathbf I}\n",
    "$$ with such $\\mu$ needs several evaluations of ${\\bf H}$ with in the region  $B({\\bf x}_0, \\delta)$ to find."
   ]
  },
  {
   "cell_type": "markdown",
   "metadata": {},
   "source": [
    "# Question B5\n",
    "\n",
    "Finally we introduce a spatially varying coefficient $m(x, y)$ in front of the non-linear term:\n",
    "    \n",
    "$$\n",
    "    -\\alpha\\frac{\\partial^2 u(x,y)}{\\partial x^2} - \\alpha\\frac{\\partial^2 u(x,y)}{\\partial y^2} +  u(x,y) +  m(x, y) \\arctan(u(x,y)) = s(x,y)\n",
    "$$\n",
    "\n",
    "so that the nonlinear discretised system changes to:\n",
    "    \n",
    "$$   \n",
    "{\\mathbf F}({\\mathbf u}, {\\mathbf m}) = \\alpha\\underline{\\mathbf K} {\\mathbf u} +  {\\mathbf u} + {\\mathbf m}\\arctan({\\mathbf u}) - {\\mathbf s} = {\\mathbf 0}\n",
    "$$\n",
    "\n",
    "where $\\mathbf{m}$ is the vector of values of $m(x, y)$ at the grid points, and ${\\mathbf m}\\arctan({\\mathbf u})$ is simply the element-wise product of ${\\mathbf m}$ and $\\arctan({\\mathbf u})$.\n",
    "\n",
    "As before we are given a function $f({\\mathbf u}, {\\mathbf m})$, such that $\\frac{\\partial f({\\mathbf u},{\\mathbf m})}{\\partial {\\mathbf u}} = F({\\mathbf u}, {\\mathbf m})$:\n",
    "\n",
    "$$\n",
    "  f({\\mathbf u}) = \\tfrac 12 \\alpha{\\mathbf u^T} \\underline{\\mathbf K} {\\mathbf u} \n",
    "  + \\tfrac 12  {\\mathbf u^T} {\\mathbf u}\n",
    "  + \\sum_{i=1}^n m_i\\left[ u_i \\arctan(u_i) - \\tfrac 12 \\log(u_i^2+1)\\right]\n",
    "  - {\\mathbf u^T} {\\mathbf s}\n",
    "$$\n",
    "\n",
    "and its Hessian (in $\\mathbf u$):\n",
    "\n",
    "$$\n",
    "  \\frac{\\partial^2 {\\mathbf f}({\\mathbf u}, \\mathbf{m})}{\\partial {\\mathbf u}^2}\n",
    "  = \\frac{\\partial {\\mathbf F}({\\mathbf u}, \\mathbf{m})}{\\partial {\\mathbf u}}\n",
    "  = \\alpha\\underline{\\mathbf K} + \\underline{\\mathbf I} +  \\underline{\\textbf{diag}}\\left(\\frac{\\mathbf{m}}{1+{\\mathbf u}^2}\\right)\n",
    "$$"
   ]
  },
  {
   "cell_type": "markdown",
   "metadata": {},
   "source": [
    "Imagine we apply this equation to some physical process, say a reaction diffusion system, where we know the source term $s(x, y)$ and we can observe the field $u(x,y)$ through measurement. We would like to know for what values of $\\mathbf{m}$ (the \"model parameters\") our numerical prediction $\\mathbf{u}$ is closest to the measured observation $\\mathbf{u_{\\text{obs}}}$. Since there might be multiple values of $\\mathbf m$ for which $\\mathbf u$ is close to $\\mathbf u_{\\text{obs}}$, including many \"noisy\" solutions at the grid level, we use a priori knowledge to require that the optimal choice of $\\mathbf m$ should be smooth.\n",
    "\n",
    "Thus we formulate this as a PDE-constrained optimisation problem based on a functional \n",
    "\n",
    "$$\n",
    "  J(\\mathbf{u}, \\mathbf{m}) = \\tfrac 12 \\left(\\mathbf{u}-\\mathbf{u_{\\text{obs}}}\\right)^T \\left(\\mathbf{u}-\\mathbf{u_{\\text{obs}}}\\right) + \\tfrac 12\\gamma \n",
    "  {\\mathbf m^T} \\underline{\\mathbf K} {\\mathbf m} \n",
    "$$\n",
    "\n",
    "where the first term represents the mismatch between $\\mathbf u$ and $\\mathbf u_{\\text{obs}}$. The second term, which uses the same discrete Laplace operator $\\underline{\\mathbf K}$ as before,\n",
    "is only small for smooth solutions, thus penalizing noisy solutions. It is weighted by a scalar $\\gamma$, where you may use the value of $\\gamma=10^{-4}$.\n",
    "\n",
    "To find the optimal $\\mathbf m$ we minimize $J(\\mathbf{u}, \\mathbf{m})$\n",
    "subject to the constraint\n",
    "\n",
    "$$\n",
    "  \\mathbf{F}(\\mathbf{u}, \\mathbf{m}) = \\mathbf{0}.\n",
    "$$\n",
    "\n",
    "As usual, we also define the reduced functional:\n",
    "\n",
    "$$\n",
    "  \\hat J(\\mathbf{m}) = J(\\mathbf{u}(\\mathbf{m}), \\mathbf{m})\n",
    "$$\n",
    "\n",
    "where $\\mathbf{u}(\\mathbf{m})$ is the unique solution $\\mathbf{u}$ that satisfies the constraint for the given values of $\\mathbf m$."
   ]
  },
  {
   "cell_type": "markdown",
   "metadata": {},
   "source": [
    "* Describe mathematically the steps to calculate the derivative \n",
    "$$\\frac{d\\hat{J}(\\mathbf{m})}{d\\mathbf{m}}$$ using the (discrete) adjoint method. Work out the various derivatives of $J(u, m)$ and $F(u, m)$ that occur in your equations."
   ]
  },
  {
   "cell_type": "markdown",
   "metadata": {},
   "source": [
    "## Answer for B5\n",
    "\n",
    "If we assume that $u(m)$ is a solution of $\\mathbf{F} (u,m)=0$ then the Lagrangian simplifies to\n",
    "\n",
    "$$\n",
    "  \\mathcal{L}(u(m), m, \\lambda) = J(u(m), m) + \\lambda \\, \\mathbf{F}(u(m), m) = J(u(m), m) = \\hat J(m)\n",
    "$$\n",
    "\n",
    "We can now compute the total derivative of $\\mathcal{L}(u(m), m, \\lambda)$ and therefore of the reduced functional $\\hat J(m)$, with respect to $m$:\n",
    "\n",
    "$$\n",
    "  \\frac{d\\hat J(m)}{dm} = \\frac{d\\mathcal{L}(u(m), m, \\lambda)}{dm} = \\left.\\frac{\\partial\\mathcal{L}(u, m, \\lambda)}{\\partial u}\\right|_{u=u(m)} \\frac{du(m)}{dm}\n",
    "    + \\left.\\frac{\\partial\\mathcal{L}(u, m, \\lambda)}{\\partial m}\\right|_{u=u(m)}\n",
    "$$\n",
    "\n",
    "In this equation if we choose $\\lambda$ to satisfy the adjoint equation:\n",
    "\n",
    "$$\n",
    "  \\frac{\\partial\\mathcal{L}(u, m, \\lambda)}{\\partial u} = \\frac{\\partial J(u,m)}{\\partial u} - \\lambda\\cdot \\frac{\\partial \\mathbf{F}(u, m)}{\\partial u} = 0 \n",
    "$$\n",
    "\n",
    "Then we could get rid of the $\\frac{du(m)}{dm}$, and our $\\frac{d\\hat J(m)}{dm}$ would simply become:\n",
    "$$\n",
    "  \\frac{d\\hat J(m)}{dm} = \\frac{\\partial\\mathcal{L}(u, m, \\lambda)}{\\partial m} = \\frac{\\partial J(u,m)}{\\partial m} - \\lambda\\cdot \\frac{\\partial \\mathbf{F}(u, m)}{\\partial m}\n",
    "$$\n",
    "\n",
    "In this question, we have $\\mathbf{F}$ and $J$ with their explicit form:\n",
    "<br>\n",
    "<br>\n",
    "$$   \n",
    "{\\mathbf F}({\\mathbf u}, {\\mathbf m}) = \\alpha\\underline{\\mathbf K} {\\mathbf u} +  {\\mathbf u} + {\\mathbf m}\\arctan({\\mathbf u}) - {\\mathbf s} = {\\mathbf 0}\\\\\n",
    " J(\\mathbf{u}, \\mathbf{m}) = \\tfrac 12 \\left(\\mathbf{u}-\\mathbf{u_{\\text{obs}}}\\right)^T \\left(\\mathbf{u}-\\mathbf{u_{\\text{obs}}}\\right) + \\tfrac 12\\gamma \\;\n",
    "  {\\mathbf m^T} \\underline{\\mathbf K} {\\mathbf m} \n",
    "$$\n",
    "\n",
    "Now we can compute \n",
    "\n",
    "$$ \\left\\{\n",
    "\\begin{aligned}\n",
    "\\frac{\\partial \\mathbf F}{\\partial u} &= \\alpha \\, \\underline{\\mathbf K} + \\underline{\\mathbf I} + \\underline{\\textbf{diag}}\\left(\\frac{\\mathbf{m}}{1+{\\mathbf u}^2}\\right)\\\\\n",
    "\\frac{\\partial \\mathbf F}{\\partial m} &= \\underline{\\textbf{diag}}\\left(\\arctan\\left(\\mathbf u\\right)\\right)\\\\\n",
    "\\frac{\\partial J}{\\partial u} &= \\left(\\mathbf u - \\mathbf{u_{\\text{obs}}}\\right)^T\\\\\n",
    "\\frac{\\partial J}{\\partial m} &= \\left(\\gamma \\, \\underline{\\mathbf K} \\mathbf{m}\\right)^T\n",
    "\\end{aligned}\n",
    "\\right.\n",
    "$$\n",
    "<br>\n",
    "<br>\n",
    "Thus, we could compute $d\\hat f(m)/dm$ for any $m$ in three steps:\n",
    "\n",
    "1) Solve the PDE constraint $\\mathbf F(u, m)=0$ to obtain $u=u(m)$\n",
    "\n",
    "2) Solve the adjoint equation using $m$ and $u(m)$ for $\\lambda$, such that $\\frac{\\partial\\mathcal{L}(u, m, \\lambda)}{\\partial u}=0$, in this question, we have (n is the degree of Freedom)\n",
    "<br>\n",
    "<br>\n",
    "$$\n",
    "  \\frac{\\partial\\mathcal{L}(u, m, \\lambda)}{\\partial u} = \\frac{\\partial J(u,m)}{\\partial u} - \\lambda\\cdot \\frac{\\partial \\mathbf F(u, m)}{\\partial u} = 0\\\\\n",
    "\\downarrow\\\\\n",
    "  \\underset{\\bf 1\\times n}{\\frac{\\partial J({\\bf u}, {\\bf m})}{\\partial{\\bf u}}} - \\underset{\\bf 1\\times n}{\\lambda^T} \n",
    "  \\underset{\\bf n\\times n}{\\frac{\\partial \\mathbf F({\\bf u}, {\\bf m})}{\\partial{\\bf u}}} = 0 \\\\\n",
    "  \\downarrow\\\\\n",
    "  \\underset{\\bf n\\times n}{\\left(\\frac{\\partial \\mathbf F({\\bf u}, {\\bf m})}{\\partial {\\bf u}}\\right)^T}\n",
    "  \\underset{\\bf n\\times 1}{\\lambda} = \\underset{\\bf 1\\times n}{\\left(\\frac{\\partial J({\\bf u},{\\bf m})}{\\partial {\\bf u}}\\right)^T}\n",
    "$$\n",
    "\n",
    "As we have computed the partial derivatives above, we could observe that indeed $\\frac{\\partial \\mathbf F({\\bf u}, {\\bf m})}{\\partial{\\bf u}}$ is symmetric, thus we can have this further simplified form:\n",
    "<br>\n",
    "<br>\n",
    "$$\n",
    "  \\left[\\alpha \\, \\underline{\\mathbf K} + \\underline{\\mathbf I} + \\underline{\\textbf{diag}}\\left(\\frac{\\mathbf{m}}{1+{\\mathbf u}^2}\\right)\\right] \\cdot \\mathbf{\\lambda} = \\mathbf u - \\mathbf{u_{\\text{obs}}}\n",
    "$$\n",
    "\n",
    "3) Then we could compute derivative of the reduced functional by\n",
    "\n",
    "$$\n",
    "\\begin{aligned}\n",
    "\\underset{\\bf 1\\times n} {\\frac{d\\hat J(m)}{dm}}= \\frac{\\partial\\mathcal{L}(u, m, \\lambda)}{\\partial m} &= \\frac{\\partial J(u,m)}{\\partial m} - \\lambda\\cdot \\frac{\\partial \\mathbf F(u, m)}{\\partial m}\\\\\n",
    "&= \\underset{\\bf 1\\times n}{\\frac{\\partial \\mathbf J({\\bf u}, {\\bf m})}{\\partial {\\bf m}}} -\n",
    "\\underset{\\bf 1\\times n}{\\lambda^T} \\underset{\\bf n\\times n}{\\frac{\\partial \\mathbf F({\\bf u},{\\bf m})}{\\partial {\\bf m}}}\n",
    "\\end{aligned}\n",
    "$$\n",
    "\n",
    "because a $1 \\times n$ divergence vector is equivalent to its transpose, a $n \\times 1$ vector in `scipy` functions, so we could just evaluate:\n",
    "\n",
    "$$\n",
    "\\begin{aligned}\n",
    "\\underset{\\bf n\\times 1} {\\left(\\frac{d\\hat J(m)}{dm}\\right)^T} &= \\underset{\\bf n\\times 1}{\\left(\\frac{\\partial \\mathbf J({\\bf u}, {\\bf m})}{\\partial {\\bf m}}\\right)^T} - \\underset{\\bf n\\times n}{\\left(\\frac{\\partial \\mathbf F({\\bf u},{\\bf m})}{\\partial {\\bf m}}\\right)^T} \\underset{\\bf n\\times 1}{\\lambda}\\\\\n",
    "&= \\gamma \\, \\underline{\\mathbf K} \\mathbf{m} - \\underline{\\textbf{diag}}\\left(\\arctan\\left(\\mathbf u\\right)\\right) \\cdot \\boldsymbol{\\lambda}\\\\\n",
    "&= \\gamma \\, \\underline{\\mathbf K} \\mathbf{m} - \\boldsymbol{\\lambda} \\arctan\\left(\\mathbf u\\right) \n",
    "\\end{aligned}\n",
    "$$\n",
    "\n",
    "after these three steps, we would have the total derivative of $\\mathcal{L}(u(m), m, \\lambda)$ and therefore of the reduced functional $\\hat J(m)$, for a given $m$."
   ]
  },
  {
   "cell_type": "markdown",
   "metadata": {},
   "source": [
    "* Implement python functions `Jhat(m)`, that calculates the functional value $\\hat{J}({\\mathbf m})$,\n",
    "and `grad_Jhat(m)`, that implements its derivative using the method from the previous question. Test whether the gradient is correct."
   ]
  },
  {
   "cell_type": "code",
   "execution_count": 34,
   "metadata": {},
   "outputs": [],
   "source": [
    "gamma = 1e-4"
   ]
  },
  {
   "cell_type": "markdown",
   "metadata": {},
   "source": [
    "First we define `f`, `F`, `Hess` for this question:"
   ]
  },
  {
   "cell_type": "code",
   "execution_count": 35,
   "metadata": {},
   "outputs": [],
   "source": [
    "def f(u):\n",
    "    return 1/2 * (alpha * u.T @ K @ u + u.T @ u) + np.sum(m * ( np.arctan(u) * u \\\n",
    "           - 1/2 * np.log(u**2 + 1))) - u.T @ s   \n",
    "def F(u):\n",
    "    return alpha * K @ u + u + m * np.arctan(u) - s\n",
    "\n",
    "def hess(u):\n",
    "    H = sp.diags(m/(1+u**2), format='csr')\n",
    "    return alpha * K + sp.eye(n) + H\n",
    "\n",
    "def hessp(u, p):\n",
    "    return hess(u) @ p"
   ]
  },
  {
   "cell_type": "markdown",
   "metadata": {},
   "source": [
    "By the steps and mathematical formulas we have derived above, we code up the `Jhat` and `grad_Jhat` functions for a given \n",
    "input $m$.<br>\n",
    "The reason why I state **global** for `m` and assign the argument `x` back to it is that, to enable those \n",
    "`f(u)` functions taking correct `m` s updated by the argument."
   ]
  },
  {
   "cell_type": "code",
   "execution_count": 36,
   "metadata": {},
   "outputs": [],
   "source": [
    "def Jhat(x):\n",
    "    global m\n",
    "    m = x\n",
    "    # we should get u = u(m) by solving F(u, m) = 0 with a given m\n",
    "    u = sop.root(F, u0, method='krylov', options={'disp': False, 'ftol': 1e-14, 'maxiter': 20000}).x\n",
    "    # a global variable to monitor how close is the prediction to the observation\n",
    "    global res\n",
    "    res = u - u_obs\n",
    "    return 1/2 * (res.T @ res + gamma * m.T @ K @ m)\n",
    "\n",
    "def grad_Jhat(x):\n",
    "    global m\n",
    "    m = x\n",
    "    # step one, we should get u = u(m) by solving F(u, m) = 0 with a given m\n",
    "    u = sop.root(F, u0, method='krylov', options={'disp': False, 'ftol': 1e-14,'maxiter': 20000}).x\n",
    "    # step two, solving lambda by the linear equation Hessian @ lambda = u - u_obs\n",
    "    H = hess(u)\n",
    "    lamda = spl.spsolve(H, u - u_obs)\n",
    "    # step three, return df/dm = \\partial J / \\partial m - (\\partial F / \\partial m)  @ lambda\n",
    "    return gamma * K @ m - lamda * np.arctan(u)"
   ]
  },
  {
   "cell_type": "markdown",
   "metadata": {},
   "source": [
    "Next, we would apply the **taylor test** to show that `grad_Jhat` is indeed a valid gradient \n",
    "for `Jhat`, on a $25 \\times 25$ grid, note we keep `s` the same source function in question B3, and also `u_obs` can be a random vector because our implementation should work for any source function and any observation data provided."
   ]
  },
  {
   "cell_type": "code",
   "execution_count": 37,
   "metadata": {},
   "outputs": [
    {
     "name": "stdout",
     "output_type": "stream",
     "text": [
      "Order of convergence, log(r(h_i)/r(h_{i+1}))/log(2):\n",
      "[1.94344937 1.97172058 1.98588434 1.99295234 1.99647933 1.99824054\n",
      " 1.9991205  1.99956029 1.99978018 1.99989017 1.99994408 1.99997361\n",
      " 1.99995154 1.99988091 1.99937029 1.99765262 1.99397414 1.96164975\n",
      " 2.04619591]\n"
     ]
    },
    {
     "data": {
      "image/png": "[encoded data removed]",
      "text/plain": [
       "<Figure size 1152x288 with 2 Axes>"
      ]
     },
     "metadata": {
      "needs_background": "light"
     },
     "output_type": "display_data"
    }
   ],
   "source": [
    "# create some constant parameters for a mesh size of 25 * 25.\n",
    "nx = 25\n",
    "K, xi, yi = laplace_matrix(nx, nx, Lx, Ly)\n",
    "n = nx**2\n",
    "s = s_function(xi, yi)\n",
    "# a random observation\n",
    "u_obs = np.random.random(n)\n",
    "# the initial guess for iteration solvers\n",
    "u0 = np.zeros(n)\n",
    "# m should be a random point \n",
    "m = np.random.random(n)\n",
    "\n",
    "# u = np.random.random(n)\n",
    "# we take our original perturbation h0 being (1, 1, 1 .......)\n",
    "h0 = np.ones(n)\n",
    "\n",
    "taylor_test(Jhat, grad_Jhat, m, h0)"
   ]
  },
  {
   "cell_type": "markdown",
   "metadata": {},
   "source": [
    "If we omit some round-off error, we can conclude that the function `grad_Jhat` we implemented is indeed the derivative of `Jhat`, as $$ \\frac{\\log\\left(\\frac{r({\\bf h}_k)}{r({\\bf h}_{k+1})}\\right)}{\\log(2)}$$ is getting close to 2."
   ]
  },
  {
   "cell_type": "markdown",
   "metadata": {},
   "source": [
    "*  Use this gradient information to solve the PDE-constrained optimisation problem. \n",
    "For testing purposes we can again setup a problem where we simply choose what the optimal $\\mathbf m$ is. \n",
    "Consider the following choice of model parameters\n",
    "$$\n",
    "  m(x, y) = (x-0.5)^2 + (y-0.5)^2\n",
    "$$\n",
    "at the grid points in a vector $\\mathbf{m^*}$. Using the source term\n",
    "$$\n",
    "  \\mathbf{s} = \\alpha\\underline{\\mathbf K} {\\mathbf u^\\ast} + {\\mathbf u^\\ast} + \\mathbf{m^*}\\arctan({\\mathbf u^\\ast})\n",
    "$$\n",
    "we can ensure that the PDE constraint $\\mathbf{F}(\\mathbf{u}, \\mathbf{m}) = \\mathbf{0}$ has the solution $\\mathbf{u}=\\mathbf{u^\\ast}$ for any choice of $\\mathbf{u^\\ast}$, so that we can choose its values again to be the same analytical solution:\n",
    "$$\n",
    "  u(x,y) = \\cos(2\\pi x) \\cos(2\\pi y)\n",
    "$$\n",
    "Using this choice of $\\mathbf{s}$ and using the same $\\mathbf{u^\\ast}$ as the observation $\\mathbf{u}_{\\text{obs}}$, check that the code you wrote is able to retrieve the chosen values of $\\mathbf{m^*}$. You do not need to repeat this for different resolutions, choose one resolution for your testing, say $n=25\\times 25$."
   ]
  },
  {
   "cell_type": "markdown",
   "metadata": {},
   "source": [
    "Define the new source function $\\bf s$ and $\\bf {m^{\\ast}}$ given in this question:"
   ]
  },
  {
   "cell_type": "code",
   "execution_count": 38,
   "metadata": {},
   "outputs": [],
   "source": [
    "def m_ast(xi, yi):\n",
    "    return (xi - 0.5) **2 + (yi - 0.5)**2\n",
    "def s_function(xi, yi):\n",
    "    return alpha * K @ u_obs + u_obs + m_ast(xi, yi) * np.arctan(u_obs)"
   ]
  },
  {
   "cell_type": "markdown",
   "metadata": {},
   "source": [
    "We check that `grad_Jhat` is indeed a valid gradient \n",
    "for `Jhat` again, as the function `s` has been changed, , also we define $\\bf u_{obs}$ as the \n",
    "$$\n",
    "  u(x,y) = \\cos(2\\pi x) \\cos(2\\pi y)\n",
    "$$ given before."
   ]
  },
  {
   "cell_type": "code",
   "execution_count": 40,
   "metadata": {},
   "outputs": [
    {
     "name": "stdout",
     "output_type": "stream",
     "text": [
      "Order of convergence, log(r(h_i)/r(h_{i+1}))/log(2):\n",
      "[1.87912215 1.93782037 1.96832876 1.98398887 1.99194558 1.99595986\n",
      " 1.9979766  1.99898746 1.99949351 1.9997467  1.99987335 1.99993675\n",
      " 1.99996846 1.99998476 1.99999553 1.99999946 2.00005599 2.00008513\n",
      " 2.00033145]\n"
     ]
    },
    {
     "data": {
      "image/png": "[encoded data removed]",
      "text/plain": [
       "<Figure size 1152x288 with 2 Axes>"
      ]
     },
     "metadata": {
      "needs_background": "light"
     },
     "output_type": "display_data"
    }
   ],
   "source": [
    "# assign s to the new source function\n",
    "s = s_function(xi, yi)\n",
    "\n",
    "# redefine f and F according to this new s-function\n",
    "def f(u):\n",
    "    return 1/2 * (alpha * u.T @ K @ u + u.T @ u) + np.sum(m * ( np.arctan(u) * u \\\n",
    "           - 1/2 * np.log(u**2 + 1))) - u.T @ s   \n",
    "def F(u):\n",
    "    return alpha * K @ u + u + m * np.arctan(u) - s\n",
    "\n",
    "# define the observation vector u_obs\n",
    "u_obs = u_exact(xi, yi)\n",
    "# the initial guess for iteration solvers\n",
    "u0 = np.zeros(n)\n",
    "# m should be a random point \n",
    "m = np.random.random(n)\n",
    "\n",
    "# we take our original perturbation h0 being (1, 1, 1 .......)\n",
    "h0 = np.ones(n)\n",
    "\n",
    "taylor_test(Jhat, grad_Jhat, m, h0)"
   ]
  },
  {
   "cell_type": "markdown",
   "metadata": {},
   "source": [
    "We see our `grad_Jhat` still pass the taylor test, so now Let's use `Jhat` and `grad_Jhat` function to solve for the functional $J$, treating it as a single variable scalar function $\\hat{J}({\\mathbf m})$."
   ]
  },
  {
   "cell_type": "markdown",
   "metadata": {},
   "source": [
    "Now Let's treat this as a single-valuable non-linear optimization problem. <br>\n",
    "To minimize $\\hat{J}({\\mathbf m})$, we use the **Truncated Newton Methods** here (the `TNC` method in `scipy.optimize.minimize`), note that the `L-BFGS-B` and `BFGS` would also give valid results here, but more time costy."
   ]
  },
  {
   "cell_type": "code",
   "execution_count": 41,
   "metadata": {},
   "outputs": [],
   "source": [
    "# setting up a initial guess of m for Jhat and grad_Jhat to use, can be random.\n",
    "m0 = np.random.random(n)"
   ]
  },
  {
   "cell_type": "code",
   "execution_count": 42,
   "metadata": {},
   "outputs": [],
   "source": [
    "gamma = 1e-4\n",
    "# result = sop.minimize(Jhat, m0, jac=grad_Jhat, method='L-BFGS-B', options={'ftol': 0, 'gtol': 1e-6, 'disp': True})\n",
    "# result = sop.minimize(Jhat, m0, jac=grad_Jhat, method='BFGS', options={'gtol': 1e-6, 'disp': True})\n",
    "result = sop.minimize(Jhat, m0, jac=grad_Jhat, method='TNC', options={'gtol': 1e-6, 'disp': True})"
   ]
  },
  {
   "cell_type": "markdown",
   "metadata": {},
   "source": [
    "Observe our solution $\\mathbf{m}$:"
   ]
  },
  {
   "cell_type": "code",
   "execution_count": 43,
   "metadata": {},
   "outputs": [
    {
     "data": {
      "text/plain": [
       "array([0.38298305, 0.37504642, 0.35988761, 0.33914182, 0.31499782,\n",
       "       0.28997327, 0.26649311, 0.2464141 , 0.23066627, 0.21929313,\n",
       "       0.21181078, 0.20761898, 0.20627769, 0.20762742, 0.21182762,\n",
       "       0.21932024, 0.23070342, 0.2464557 , 0.26653808, 0.29002356,\n",
       "       0.31503862, 0.33916627, 0.35989991, 0.37503597, 0.38296926,\n",
       "       0.3750408 , 0.36740856, 0.35284978, 0.3329163 , 0.30972692,\n",
       "       0.28568169, 0.26307581, 0.24369076, 0.22840808, 0.21730622,\n",
       "       0.20994835, 0.20581507, 0.20448853, 0.20582228, 0.2099726 ,\n",
       "       0.21733554, 0.22844951, 0.24373526, 0.26312772, 0.28572607,\n",
       "       0.30976646, 0.33294412, 0.35286426, 0.36741381, 0.37503473,\n",
       "       0.35989193, 0.35285356, 0.33942757, 0.32103402, 0.29963918,\n",
       "       0.27741505, 0.25644813, 0.23831355, 0.22385787, 0.213205  ,\n",
       "       0.20605744, 0.20199548, 0.20068259, 0.20200629, 0.20608066,\n",
       "       0.21324086, 0.22390036, 0.23836366, 0.2564973 , 0.27746594,\n",
       "       0.29967972, 0.32106826, 0.3394484 , 0.35286559, 0.35989857,\n",
       "       0.33914256, 0.33291748, 0.32103547, 0.30474294, 0.2857299 ,\n",
       "       0.2658792 , 0.24696901, 0.23036678, 0.21685814, 0.20667343,\n",
       "       0.19968521, 0.19564259, 0.19432792, 0.1956577 , 0.19971308,\n",
       "       0.2067127 , 0.21690457, 0.23042079, 0.24702547, 0.26593436,\n",
       "       0.28577565, 0.30478191, 0.32106658, 0.33293896, 0.33916069,\n",
       "       0.31500344, 0.30972772, 0.29963639, 0.28572683, 0.26935503,\n",
       "       0.25202757, 0.23518196, 0.21998622, 0.20720454, 0.19722413,\n",
       "       0.19015039, 0.1859545 , 0.18456988, 0.18596873, 0.19018233,\n",
       "       0.19726321, 0.20725321, 0.22004165, 0.23524076, 0.25208344,\n",
       "       0.26940518, 0.28577263, 0.29967815, 0.30976082, 0.31503215,\n",
       "       0.28997914, 0.28567954, 0.27741202, 0.26587814, 0.25202796,\n",
       "       0.23695024, 0.22175185, 0.20742161, 0.19477613, 0.18442014,\n",
       "       0.17676858, 0.17208654, 0.17051389, 0.17210393, 0.17679577,\n",
       "       0.18446409, 0.19482739, 0.20747866, 0.22181003, 0.23700756,\n",
       "       0.25207854, 0.26592671, 0.27746059, 0.28572195, 0.29001626,\n",
       "       0.26649079, 0.26307551, 0.25644253, 0.24696731, 0.23518228,\n",
       "       0.22174941, 0.20744587, 0.19314622, 0.17977129, 0.16822702,\n",
       "       0.15932933, 0.15371331, 0.15180101, 0.15373124, 0.1593609 ,\n",
       "       0.16827424, 0.17982788, 0.19320892, 0.20751221, 0.22181076,\n",
       "       0.23523753, 0.24702277, 0.2564907 , 0.26312172, 0.26653209,\n",
       "       0.24640681, 0.2436852 , 0.23830913, 0.2303631 , 0.21998373,\n",
       "       0.20742016, 0.19314522, 0.17795535, 0.16293826, 0.14938455,\n",
       "       0.1385846 , 0.13162936, 0.12923414, 0.13164823, 0.13862034,\n",
       "       0.14943298, 0.16299561, 0.17801974, 0.1932153 , 0.20748482,\n",
       "       0.2200453 , 0.23041881, 0.23835933, 0.24373293, 0.24645086,\n",
       "       0.23066333, 0.22840872, 0.2238536 , 0.21685421, 0.20720247,\n",
       "       0.19477658, 0.17977204, 0.16293671, 0.14559946, 0.1294939 ,\n",
       "       0.11641658, 0.10789776, 0.10494496, 0.10791425, 0.11645024,\n",
       "       0.12953994, 0.14565806, 0.16300063, 0.17983916, 0.19484017,\n",
       "       0.20726332, 0.21690825, 0.22390023, 0.22844734, 0.23070257,\n",
       "       0.21929215, 0.2173025 , 0.21320419, 0.20667273, 0.19722679,\n",
       "       0.1844231 , 0.16822708, 0.14938161, 0.12949134, 0.11073763,\n",
       "       0.09538572, 0.08534681, 0.0818611 , 0.08536512, 0.09542128,\n",
       "       0.11078472, 0.12955041, 0.1494483 , 0.16829288, 0.18448271,\n",
       "       0.19727957, 0.20672075, 0.21324505, 0.21733782, 0.21932235,\n",
       "       0.21180851, 0.20995026, 0.20606051, 0.19969179, 0.19015826,\n",
       "       0.17677865, 0.15933225, 0.13859029, 0.11641496, 0.09538759,\n",
       "       0.07813757, 0.06684765, 0.06292901, 0.06686513, 0.07816913,\n",
       "       0.0954332 , 0.11647274, 0.13864912, 0.15939075, 0.17682828,\n",
       "       0.19020211, 0.19973018, 0.20609365, 0.2099776 , 0.21183357,\n",
       "       0.20762195, 0.20581988, 0.20200166, 0.19565387, 0.18596857,\n",
       "       0.17210444, 0.1537314 , 0.13164326, 0.10790023, 0.08534873,\n",
       "       0.06685119, 0.05474915, 0.05054628, 0.05476234, 0.06687703,\n",
       "       0.08539004, 0.1079509 , 0.13169061, 0.15377648, 0.17214147,\n",
       "       0.18599937, 0.1956825 , 0.20202781, 0.20583932, 0.20764032,\n",
       "       0.20629023, 0.20450384, 0.20070033, 0.194343  , 0.18458965,\n",
       "       0.17053776, 0.1518253 , 0.129254  , 0.10495754, 0.08186787,\n",
       "       0.06293372, 0.05055082, 0.04625176, 0.05056053, 0.06295694,\n",
       "       0.08190312, 0.10499689, 0.12929155, 0.15185984, 0.17056611,\n",
       "       0.18461094, 0.19436459, 0.20071463, 0.20451271, 0.2063025 ,\n",
       "       0.20765098, 0.20585123, 0.20203504, 0.19568474, 0.18599377,\n",
       "       0.17213405, 0.15376058, 0.13167656, 0.10793251, 0.08537201,\n",
       "       0.06686707, 0.05476428, 0.05056345, 0.05477564, 0.0668918 ,\n",
       "       0.0854052 , 0.10796409, 0.13170392, 0.15378675, 0.17215144,\n",
       "       0.18601029, 0.19569411, 0.20203634, 0.20584987, 0.207654  ,\n",
       "       0.2118571 , 0.21000508, 0.20611865, 0.19975083, 0.19021818,\n",
       "       0.17684137, 0.15939537, 0.13865308, 0.11647125, 0.09543205,\n",
       "       0.07817115, 0.06687643, 0.06295652, 0.06689081, 0.07819384,\n",
       "       0.09545856, 0.11649404, 0.13867018, 0.15941081, 0.17684784,\n",
       "       0.19022134, 0.19975118, 0.20611273, 0.2099998 , 0.21185434,\n",
       "       0.21935603, 0.21736979, 0.2132816 , 0.20675314, 0.19730821,\n",
       "       0.18450648, 0.16831128, 0.14946165, 0.12956481, 0.11079974,\n",
       "       0.09543275, 0.08538537, 0.08189693, 0.08539935, 0.09545534,\n",
       "       0.11081701, 0.12958008, 0.14947708, 0.16831914, 0.18451012,\n",
       "       0.19730789, 0.20674924, 0.21327287, 0.21736765, 0.21935233,\n",
       "       0.2307359 , 0.22848583, 0.22394304, 0.21695318, 0.20730509,\n",
       "       0.19487922, 0.17987072, 0.16303165, 0.14568679, 0.12956625,\n",
       "       0.11647549, 0.10794281, 0.10498749, 0.10795644, 0.11649133,\n",
       "       0.12958181, 0.14569598, 0.16303802, 0.17987574, 0.19487737,\n",
       "       0.2073009 , 0.21694816, 0.22393917, 0.22848183, 0.23073636,\n",
       "       0.24647823, 0.24376718, 0.23840889, 0.23047378, 0.22010113,\n",
       "       0.20753525, 0.19326046, 0.1780616 , 0.16303335, 0.14946727,\n",
       "       0.13865348, 0.13168581, 0.12928572, 0.131695  , 0.13866688,\n",
       "       0.14947545, 0.16304139, 0.17806443, 0.19325941, 0.20753003,\n",
       "       0.22009085, 0.23046523, 0.23839841, 0.2437708 , 0.24648871,\n",
       "       0.26655565, 0.26315243, 0.25653651, 0.24707453, 0.23529919,\n",
       "       0.22187349, 0.20756669, 0.19326072, 0.17987147, 0.16831457,\n",
       "       0.15939905, 0.15377469, 0.15185481, 0.15377978, 0.15940573,\n",
       "       0.16832158, 0.17987706, 0.19326289, 0.20756294, 0.22186441,\n",
       "       0.23529405, 0.24707038, 0.25653564, 0.26316267, 0.26657003,\n",
       "       0.29003865, 0.28575151, 0.2775036 , 0.26597928, 0.25213666,\n",
       "       0.23706707, 0.22186479, 0.20752951, 0.19487215, 0.1845057 ,\n",
       "       0.17684152, 0.17214336, 0.17056791, 0.172149  , 0.17684526,\n",
       "       0.18451101, 0.19488077, 0.20753441, 0.22186676, 0.23706502,\n",
       "       0.25213637, 0.26597883, 0.27750063, 0.28575738, 0.29004884,\n",
       "       0.31505599, 0.30978978, 0.29971498, 0.28581767, 0.26945344,\n",
       "       0.25213036, 0.23528336, 0.22007779, 0.20728885, 0.19730062,\n",
       "       0.19021863, 0.18600732, 0.18461306, 0.18600606, 0.19022005,\n",
       "       0.19731209, 0.20730959, 0.22010032, 0.23530147, 0.25214248,\n",
       "       0.26946103, 0.28582222, 0.29971734, 0.30979763, 0.31506319,\n",
       "       0.33918294, 0.33296555, 0.32109674, 0.30481967, 0.28581509,\n",
       "       0.26596732, 0.24706017, 0.23045206, 0.21693314, 0.20673783,\n",
       "       0.19974754, 0.19569427, 0.19436714, 0.19569176, 0.19975009,\n",
       "       0.20675722, 0.21696099, 0.23048164, 0.24708936, 0.26599333,\n",
       "       0.28583207, 0.30482524, 0.32110727, 0.33297291, 0.33918924,\n",
       "       0.35991678, 0.35288422, 0.33946861, 0.32109826, 0.29970618,\n",
       "       0.27749306, 0.2565168 , 0.23838297, 0.22391798, 0.21324795,\n",
       "       0.2060995 , 0.20203704, 0.20072118, 0.2020381 , 0.20611619,\n",
       "       0.21328215, 0.22395513, 0.23842306, 0.25656083, 0.27752642,\n",
       "       0.29973575, 0.32111605, 0.33948291, 0.35289347, 0.35991969,\n",
       "       0.3750514 , 0.36742897, 0.35288317, 0.33296602, 0.30978818,\n",
       "       0.2857486 , 0.26314831, 0.24374788, 0.22845923, 0.21733286,\n",
       "       0.20997651, 0.20584466, 0.20452   , 0.20585145, 0.2100013 ,\n",
       "       0.21737209, 0.22849981, 0.243796  , 0.26319191, 0.28578882,\n",
       "       0.30981974, 0.33298794, 0.35289979, 0.36743221, 0.37504846,\n",
       "       0.38297913, 0.37505058, 0.35991405, 0.33918197, 0.31505789,\n",
       "       0.29004424, 0.26655675, 0.24646566, 0.23069788, 0.21930485,\n",
       "       0.21182462, 0.20764277, 0.20630732, 0.20765495, 0.21185363,\n",
       "       0.21935701, 0.23075508, 0.24651554, 0.26660413, 0.2900824 ,\n",
       "       0.31509036, 0.33920698, 0.35992988, 0.37505294, 0.38297753])"
      ]
     },
     "execution_count": 43,
     "metadata": {},
     "output_type": "execute_result"
    }
   ],
   "source": [
    "result.x"
   ]
  },
  {
   "cell_type": "markdown",
   "metadata": {},
   "source": [
    "As well as $\\mathbf{m^\\ast}$:\n",
    "$$\n",
    "  m^\\ast(x, y) = (x-0.5)^2 + (y-0.5)^2\n",
    "$$"
   ]
  },
  {
   "cell_type": "code",
   "execution_count": 44,
   "metadata": {},
   "outputs": [
    {
     "data": {
      "text/plain": [
       "array([0.5       , 0.46006944, 0.42361111, 0.390625  , 0.36111111,\n",
       "       0.33506944, 0.3125    , 0.29340278, 0.27777778, 0.265625  ,\n",
       "       0.25694444, 0.25173611, 0.25      , 0.25173611, 0.25694444,\n",
       "       0.265625  , 0.27777778, 0.29340278, 0.3125    , 0.33506944,\n",
       "       0.36111111, 0.390625  , 0.42361111, 0.46006944, 0.5       ,\n",
       "       0.46006944, 0.42013889, 0.38368056, 0.35069444, 0.32118056,\n",
       "       0.29513889, 0.27256944, 0.25347222, 0.23784722, 0.22569444,\n",
       "       0.21701389, 0.21180556, 0.21006944, 0.21180556, 0.21701389,\n",
       "       0.22569444, 0.23784722, 0.25347222, 0.27256944, 0.29513889,\n",
       "       0.32118056, 0.35069444, 0.38368056, 0.42013889, 0.46006944,\n",
       "       0.42361111, 0.38368056, 0.34722222, 0.31423611, 0.28472222,\n",
       "       0.25868056, 0.23611111, 0.21701389, 0.20138889, 0.18923611,\n",
       "       0.18055556, 0.17534722, 0.17361111, 0.17534722, 0.18055556,\n",
       "       0.18923611, 0.20138889, 0.21701389, 0.23611111, 0.25868056,\n",
       "       0.28472222, 0.31423611, 0.34722222, 0.38368056, 0.42361111,\n",
       "       0.390625  , 0.35069444, 0.31423611, 0.28125   , 0.25173611,\n",
       "       0.22569444, 0.203125  , 0.18402778, 0.16840278, 0.15625   ,\n",
       "       0.14756944, 0.14236111, 0.140625  , 0.14236111, 0.14756944,\n",
       "       0.15625   , 0.16840278, 0.18402778, 0.203125  , 0.22569444,\n",
       "       0.25173611, 0.28125   , 0.31423611, 0.35069444, 0.390625  ,\n",
       "       0.36111111, 0.32118056, 0.28472222, 0.25173611, 0.22222222,\n",
       "       0.19618056, 0.17361111, 0.15451389, 0.13888889, 0.12673611,\n",
       "       0.11805556, 0.11284722, 0.11111111, 0.11284722, 0.11805556,\n",
       "       0.12673611, 0.13888889, 0.15451389, 0.17361111, 0.19618056,\n",
       "       0.22222222, 0.25173611, 0.28472222, 0.32118056, 0.36111111,\n",
       "       0.33506944, 0.29513889, 0.25868056, 0.22569444, 0.19618056,\n",
       "       0.17013889, 0.14756944, 0.12847222, 0.11284722, 0.10069444,\n",
       "       0.09201389, 0.08680556, 0.08506944, 0.08680556, 0.09201389,\n",
       "       0.10069444, 0.11284722, 0.12847222, 0.14756944, 0.17013889,\n",
       "       0.19618056, 0.22569444, 0.25868056, 0.29513889, 0.33506944,\n",
       "       0.3125    , 0.27256944, 0.23611111, 0.203125  , 0.17361111,\n",
       "       0.14756944, 0.125     , 0.10590278, 0.09027778, 0.078125  ,\n",
       "       0.06944444, 0.06423611, 0.0625    , 0.06423611, 0.06944444,\n",
       "       0.078125  , 0.09027778, 0.10590278, 0.125     , 0.14756944,\n",
       "       0.17361111, 0.203125  , 0.23611111, 0.27256944, 0.3125    ,\n",
       "       0.29340278, 0.25347222, 0.21701389, 0.18402778, 0.15451389,\n",
       "       0.12847222, 0.10590278, 0.08680556, 0.07118056, 0.05902778,\n",
       "       0.05034722, 0.04513889, 0.04340278, 0.04513889, 0.05034722,\n",
       "       0.05902778, 0.07118056, 0.08680556, 0.10590278, 0.12847222,\n",
       "       0.15451389, 0.18402778, 0.21701389, 0.25347222, 0.29340278,\n",
       "       0.27777778, 0.23784722, 0.20138889, 0.16840278, 0.13888889,\n",
       "       0.11284722, 0.09027778, 0.07118056, 0.05555556, 0.04340278,\n",
       "       0.03472222, 0.02951389, 0.02777778, 0.02951389, 0.03472222,\n",
       "       0.04340278, 0.05555556, 0.07118056, 0.09027778, 0.11284722,\n",
       "       0.13888889, 0.16840278, 0.20138889, 0.23784722, 0.27777778,\n",
       "       0.265625  , 0.22569444, 0.18923611, 0.15625   , 0.12673611,\n",
       "       0.10069444, 0.078125  , 0.05902778, 0.04340278, 0.03125   ,\n",
       "       0.02256944, 0.01736111, 0.015625  , 0.01736111, 0.02256944,\n",
       "       0.03125   , 0.04340278, 0.05902778, 0.078125  , 0.10069444,\n",
       "       0.12673611, 0.15625   , 0.18923611, 0.22569444, 0.265625  ,\n",
       "       0.25694444, 0.21701389, 0.18055556, 0.14756944, 0.11805556,\n",
       "       0.09201389, 0.06944444, 0.05034722, 0.03472222, 0.02256944,\n",
       "       0.01388889, 0.00868056, 0.00694444, 0.00868056, 0.01388889,\n",
       "       0.02256944, 0.03472222, 0.05034722, 0.06944444, 0.09201389,\n",
       "       0.11805556, 0.14756944, 0.18055556, 0.21701389, 0.25694444,\n",
       "       0.25173611, 0.21180556, 0.17534722, 0.14236111, 0.11284722,\n",
       "       0.08680556, 0.06423611, 0.04513889, 0.02951389, 0.01736111,\n",
       "       0.00868056, 0.00347222, 0.00173611, 0.00347222, 0.00868056,\n",
       "       0.01736111, 0.02951389, 0.04513889, 0.06423611, 0.08680556,\n",
       "       0.11284722, 0.14236111, 0.17534722, 0.21180556, 0.25173611,\n",
       "       0.25      , 0.21006944, 0.17361111, 0.140625  , 0.11111111,\n",
       "       0.08506944, 0.0625    , 0.04340278, 0.02777778, 0.015625  ,\n",
       "       0.00694444, 0.00173611, 0.        , 0.00173611, 0.00694444,\n",
       "       0.015625  , 0.02777778, 0.04340278, 0.0625    , 0.08506944,\n",
       "       0.11111111, 0.140625  , 0.17361111, 0.21006944, 0.25      ,\n",
       "       0.25173611, 0.21180556, 0.17534722, 0.14236111, 0.11284722,\n",
       "       0.08680556, 0.06423611, 0.04513889, 0.02951389, 0.01736111,\n",
       "       0.00868056, 0.00347222, 0.00173611, 0.00347222, 0.00868056,\n",
       "       0.01736111, 0.02951389, 0.04513889, 0.06423611, 0.08680556,\n",
       "       0.11284722, 0.14236111, 0.17534722, 0.21180556, 0.25173611,\n",
       "       0.25694444, 0.21701389, 0.18055556, 0.14756944, 0.11805556,\n",
       "       0.09201389, 0.06944444, 0.05034722, 0.03472222, 0.02256944,\n",
       "       0.01388889, 0.00868056, 0.00694444, 0.00868056, 0.01388889,\n",
       "       0.02256944, 0.03472222, 0.05034722, 0.06944444, 0.09201389,\n",
       "       0.11805556, 0.14756944, 0.18055556, 0.21701389, 0.25694444,\n",
       "       0.265625  , 0.22569444, 0.18923611, 0.15625   , 0.12673611,\n",
       "       0.10069444, 0.078125  , 0.05902778, 0.04340278, 0.03125   ,\n",
       "       0.02256944, 0.01736111, 0.015625  , 0.01736111, 0.02256944,\n",
       "       0.03125   , 0.04340278, 0.05902778, 0.078125  , 0.10069444,\n",
       "       0.12673611, 0.15625   , 0.18923611, 0.22569444, 0.265625  ,\n",
       "       0.27777778, 0.23784722, 0.20138889, 0.16840278, 0.13888889,\n",
       "       0.11284722, 0.09027778, 0.07118056, 0.05555556, 0.04340278,\n",
       "       0.03472222, 0.02951389, 0.02777778, 0.02951389, 0.03472222,\n",
       "       0.04340278, 0.05555556, 0.07118056, 0.09027778, 0.11284722,\n",
       "       0.13888889, 0.16840278, 0.20138889, 0.23784722, 0.27777778,\n",
       "       0.29340278, 0.25347222, 0.21701389, 0.18402778, 0.15451389,\n",
       "       0.12847222, 0.10590278, 0.08680556, 0.07118056, 0.05902778,\n",
       "       0.05034722, 0.04513889, 0.04340278, 0.04513889, 0.05034722,\n",
       "       0.05902778, 0.07118056, 0.08680556, 0.10590278, 0.12847222,\n",
       "       0.15451389, 0.18402778, 0.21701389, 0.25347222, 0.29340278,\n",
       "       0.3125    , 0.27256944, 0.23611111, 0.203125  , 0.17361111,\n",
       "       0.14756944, 0.125     , 0.10590278, 0.09027778, 0.078125  ,\n",
       "       0.06944444, 0.06423611, 0.0625    , 0.06423611, 0.06944444,\n",
       "       0.078125  , 0.09027778, 0.10590278, 0.125     , 0.14756944,\n",
       "       0.17361111, 0.203125  , 0.23611111, 0.27256944, 0.3125    ,\n",
       "       0.33506944, 0.29513889, 0.25868056, 0.22569444, 0.19618056,\n",
       "       0.17013889, 0.14756944, 0.12847222, 0.11284722, 0.10069444,\n",
       "       0.09201389, 0.08680556, 0.08506944, 0.08680556, 0.09201389,\n",
       "       0.10069444, 0.11284722, 0.12847222, 0.14756944, 0.17013889,\n",
       "       0.19618056, 0.22569444, 0.25868056, 0.29513889, 0.33506944,\n",
       "       0.36111111, 0.32118056, 0.28472222, 0.25173611, 0.22222222,\n",
       "       0.19618056, 0.17361111, 0.15451389, 0.13888889, 0.12673611,\n",
       "       0.11805556, 0.11284722, 0.11111111, 0.11284722, 0.11805556,\n",
       "       0.12673611, 0.13888889, 0.15451389, 0.17361111, 0.19618056,\n",
       "       0.22222222, 0.25173611, 0.28472222, 0.32118056, 0.36111111,\n",
       "       0.390625  , 0.35069444, 0.31423611, 0.28125   , 0.25173611,\n",
       "       0.22569444, 0.203125  , 0.18402778, 0.16840278, 0.15625   ,\n",
       "       0.14756944, 0.14236111, 0.140625  , 0.14236111, 0.14756944,\n",
       "       0.15625   , 0.16840278, 0.18402778, 0.203125  , 0.22569444,\n",
       "       0.25173611, 0.28125   , 0.31423611, 0.35069444, 0.390625  ,\n",
       "       0.42361111, 0.38368056, 0.34722222, 0.31423611, 0.28472222,\n",
       "       0.25868056, 0.23611111, 0.21701389, 0.20138889, 0.18923611,\n",
       "       0.18055556, 0.17534722, 0.17361111, 0.17534722, 0.18055556,\n",
       "       0.18923611, 0.20138889, 0.21701389, 0.23611111, 0.25868056,\n",
       "       0.28472222, 0.31423611, 0.34722222, 0.38368056, 0.42361111,\n",
       "       0.46006944, 0.42013889, 0.38368056, 0.35069444, 0.32118056,\n",
       "       0.29513889, 0.27256944, 0.25347222, 0.23784722, 0.22569444,\n",
       "       0.21701389, 0.21180556, 0.21006944, 0.21180556, 0.21701389,\n",
       "       0.22569444, 0.23784722, 0.25347222, 0.27256944, 0.29513889,\n",
       "       0.32118056, 0.35069444, 0.38368056, 0.42013889, 0.46006944,\n",
       "       0.5       , 0.46006944, 0.42361111, 0.390625  , 0.36111111,\n",
       "       0.33506944, 0.3125    , 0.29340278, 0.27777778, 0.265625  ,\n",
       "       0.25694444, 0.25173611, 0.25      , 0.25173611, 0.25694444,\n",
       "       0.265625  , 0.27777778, 0.29340278, 0.3125    , 0.33506944,\n",
       "       0.36111111, 0.390625  , 0.42361111, 0.46006944, 0.5       ])"
      ]
     },
     "execution_count": 44,
     "metadata": {},
     "output_type": "execute_result"
    }
   ],
   "source": [
    "m_ast(xi, yi)"
   ]
  },
  {
   "cell_type": "markdown",
   "metadata": {},
   "source": [
    "Let's check the $d_1$ norm of $\\mathbf{m} - \\mathbf{m^\\ast}$:"
   ]
  },
  {
   "cell_type": "code",
   "execution_count": 45,
   "metadata": {},
   "outputs": [
    {
     "data": {
      "text/plain": [
       "33.52544219330538"
      ]
     },
     "execution_count": 45,
     "metadata": {},
     "output_type": "execute_result"
    }
   ],
   "source": [
    "np.sum(abs(result.x - m_ast(xi, yi)))"
   ]
  },
  {
   "cell_type": "markdown",
   "metadata": {},
   "source": [
    "Also the $d_1$ norm of $\\mathbf u - \\mathbf {u_{\\text{obs}}}$:"
   ]
  },
  {
   "cell_type": "code",
   "execution_count": 46,
   "metadata": {},
   "outputs": [
    {
     "data": {
      "text/plain": [
       "0.03336396203626385"
      ]
     },
     "execution_count": 46,
     "metadata": {},
     "output_type": "execute_result"
    }
   ],
   "source": [
    "np.sum(res)"
   ]
  },
  {
   "cell_type": "markdown",
   "metadata": {},
   "source": [
    "We could see that they are not very close to each other, or say, our effect of retrieving is not that good, is this caused by we having a wrong methodology or maybe other reasons?<br>\n",
    "Let's compute some values, note that our functional to minimize is  \n",
    "$$\\hat{J}(\\mathbf{m}) = \\tfrac 12 \\left(\\mathbf{u(\\mathbf{m})}-\\mathbf{u_{\\text{obs}}}\\right)^T \\left(\\mathbf{u(\\mathbf{m})}-\\mathbf{u_{\\text{obs}}}\\right) + \\tfrac 12\\gamma \\;\n",
    "  {\\mathbf m^T} \\underline{\\mathbf K} {\\mathbf m} \n",
    "$$\n",
    "\n",
    "Now we have a $\\gamma = 1e^{-4}$"
   ]
  },
  {
   "cell_type": "code",
   "execution_count": 47,
   "metadata": {},
   "outputs": [
    {
     "name": "stdout",
     "output_type": "stream",
     "text": [
      "Jhat for m_exact:  0.019965277777777762\n",
      "1/2 gamma * m.T @ K @ m contribution:  0.019965277777777762\n",
      "1/2 (u - u_obs).T @ (u - u_obs) contribution 6.069766986569361e-29\n",
      "checking those two adding up to Jhat: 0.019965277777777762\n"
     ]
    }
   ],
   "source": [
    "m = m_ast(xi, yi)\n",
    "print(\"Jhat for m_exact: \", Jhat(m_ast(xi, yi)))\n",
    "print(\"1/2 gamma * m.T @ K @ m contribution: \", 1/2 * gamma * m.T @ K @ m)\n",
    "print(\"1/2 (u - u_obs).T @ (u - u_obs) contribution\", 1/2 * res @ res)\n",
    "print(\"checking those two adding up to Jhat:\", 1/2 * res @ res + 1/2 * gamma * m.T @ K @ m)"
   ]
  },
  {
   "cell_type": "code",
   "execution_count": 48,
   "metadata": {},
   "outputs": [
    {
     "name": "stdout",
     "output_type": "stream",
     "text": [
      "Jhat for m_optimize:  0.008771644434936571\n",
      "1/2 gamma * m.T @ K @ m contribution:  0.006322319614791118\n",
      "1/2 (u - u_obs).T @ (u - u_obs) contribution 0.0024493248201454534\n",
      "checking those two adding up to Jhat: True\n"
     ]
    }
   ],
   "source": [
    "m = result.x\n",
    "print(\"Jhat for m_optimize: \", Jhat(result.x))\n",
    "print(\"1/2 gamma * m.T @ K @ m contribution: \", 1/2 * gamma * m.T @ K @ m)\n",
    "print(\"1/2 (u - u_obs).T @ (u - u_obs) contribution\", 1/2 * res @ res)\n",
    "print(\"checking those two adding up to Jhat:\", np.allclose(1/2 * res @ res + 1/2 * gamma * m.T @ K @ m, Jhat(result.x)))"
   ]
  },
  {
   "cell_type": "markdown",
   "metadata": {},
   "source": [
    "From the results above we could see that the $\\hat{J}(\\mathbf{m^\\ast})$ is even larger than the $\\hat{J}(\\mathbf{m})$ which is solution we get ! This is because the term $\\tfrac 12\\gamma \\;\n",
    "  {\\mathbf m^T} \\underline{\\mathbf K} {\\mathbf m}$ has too large contribution in the functional value compared to the term $\\tfrac 12 \\left(\\mathbf{u(\\mathbf{m})}-\\mathbf{u_{\\text{obs}}}\\right)^T \\left(\\mathbf{u(\\mathbf{m})}-\\mathbf{u_{\\text{obs}}}\\right)$, which leads to the given $\\mathbf{m^\\ast}$ is actually not the optimum for the functional $\\hat{J}(\\mathbf{m})$ !"
   ]
  },
  {
   "cell_type": "markdown",
   "metadata": {},
   "source": [
    "Let's choose a small $\\gamma$ and see if this issue is fixed, say $\\gamma = 1e^{-8}$"
   ]
  },
  {
   "cell_type": "code",
   "execution_count": 49,
   "metadata": {},
   "outputs": [],
   "source": [
    "gamma = 1e-8"
   ]
  },
  {
   "cell_type": "code",
   "execution_count": 50,
   "metadata": {},
   "outputs": [
    {
     "name": "stdout",
     "output_type": "stream",
     "text": [
      "Jhat for m_exact:  1.9965277777777767e-06\n",
      "1/2 gamma * m.T @ K @ m contribution:  1.9965277777777767e-06\n",
      "1/2 (u - u_obs).T @ (u - u_obs) contribution 6.069766986569361e-29\n",
      "checking those two adding up to Jhat: 1.9965277777777767e-06\n"
     ]
    }
   ],
   "source": [
    "m = m_ast(xi, yi)\n",
    "print(\"Jhat for m_exact: \", Jhat(m_ast(xi, yi)))\n",
    "print(\"1/2 gamma * m.T @ K @ m contribution: \", 1/2 * gamma * m.T @ K @ m)\n",
    "print(\"1/2 (u - u_obs).T @ (u - u_obs) contribution\", 1/2 * res @ res)\n",
    "print(\"checking those two adding up to Jhat:\", 1/2 * res @ res + 1/2 * gamma * m.T @ K @ m)"
   ]
  },
  {
   "cell_type": "markdown",
   "metadata": {},
   "source": [
    "We can see now the contribution of the term $\\tfrac 12\\gamma \\;\n",
    "  {\\mathbf m^T} \\underline{\\mathbf K} {\\mathbf m}$ in the functional $\\hat{J}(\\mathbf{m})$ has been weakened."
   ]
  },
  {
   "cell_type": "markdown",
   "metadata": {},
   "source": [
    "Let's solve the optimization problem again:"
   ]
  },
  {
   "cell_type": "code",
   "execution_count": 73,
   "metadata": {},
   "outputs": [],
   "source": [
    "# result = sop.minimize(Jhat, m0, jac=grad_Jhat, method='L-BFGS-B', options={'ftol': 0, 'gtol': 1e-6, 'disp': True})\n",
    "# result = sop.minimize(Jhat, m0, jac=grad_Jhat, method='BFGS', options={'gtol': 1e-6, 'disp': True})\n",
    "result = sop.minimize(Jhat, m0, jac=grad_Jhat, method='TNC', options={'gtol': 1e-6, 'disp': True})"
   ]
  },
  {
   "cell_type": "markdown",
   "metadata": {},
   "source": [
    "Observe our solution $\\mathbf{m}$:"
   ]
  },
  {
   "cell_type": "code",
   "execution_count": 74,
   "metadata": {},
   "outputs": [
    {
     "data": {
      "text/plain": [
       "array([ 0.49444562,  0.46844029,  0.41372679,  0.39159839,  0.35822699,\n",
       "        0.31764881,  0.28943536,  0.27713699,  0.27428679,  0.26392343,\n",
       "        0.25376246,  0.25216709,  0.24817481,  0.24971737,  0.25512689,\n",
       "        0.26601978,  0.27251883,  0.27706473,  0.28800381,  0.32002833,\n",
       "        0.35626641,  0.3869267 ,  0.42185151,  0.46368199,  0.49269371,\n",
       "        0.45697674,  0.42942272,  0.37923633,  0.35561881,  0.32755941,\n",
       "        0.29510648,  0.26986568,  0.254476  ,  0.24370308,  0.22972072,\n",
       "        0.21916469,  0.21330553,  0.21361057,  0.21320908,  0.21965872,\n",
       "        0.22991813,  0.24173017,  0.25236164,  0.26828022,  0.29693249,\n",
       "        0.32520242,  0.35363168,  0.38576863,  0.42979901,  0.46252201,\n",
       "        0.42384946,  0.38600485,  0.34765229,  0.31529335,  0.28571908,\n",
       "        0.26273986,  0.24155752,  0.22193574,  0.20312729,  0.18831576,\n",
       "        0.17985803,  0.17647443,  0.17436689,  0.1728229 ,  0.17997385,\n",
       "        0.18826417,  0.20310762,  0.22149702,  0.24149519,  0.26464865,\n",
       "        0.28639124,  0.31441428,  0.34342199,  0.38109309,  0.41872045,\n",
       "        0.38577444,  0.35438902,  0.31260791,  0.27885406,  0.25011745,\n",
       "        0.23064791,  0.21080979,  0.18912005,  0.16890589,  0.15281223,\n",
       "        0.14454533,  0.13940923,  0.14157376,  0.14365581,  0.14562553,\n",
       "        0.15439837,  0.16900975,  0.1906233 ,  0.2119907 ,  0.23136053,\n",
       "        0.25201753,  0.27985941,  0.31431658,  0.35347898,  0.39125785,\n",
       "        0.35581453,  0.32736043,  0.28575859,  0.25110671,  0.22560638,\n",
       "        0.20364906,  0.18441381,  0.16384427,  0.14119957,  0.12672978,\n",
       "        0.11746624,  0.11104961,  0.11008254,  0.11269929,  0.11604066,\n",
       "        0.1261443 ,  0.14161131,  0.16354343,  0.18543553,  0.20341796,\n",
       "        0.22156778,  0.25198554,  0.28731093,  0.32609624,  0.35926286,\n",
       "        0.32103921,  0.29505402,  0.26232517,  0.23032393,  0.20516168,\n",
       "        0.18342304,  0.16588902,  0.14205027,  0.1216153 ,  0.10463996,\n",
       "        0.09568463,  0.09037056,  0.08747527,  0.09018466,  0.09769249,\n",
       "        0.10831303,  0.12290031,  0.14213504,  0.16280535,  0.18217552,\n",
       "        0.20232479,  0.2298202 ,  0.26403908,  0.29493162,  0.31785394,\n",
       "        0.28916686,  0.26898127,  0.23944305,  0.21210763,  0.18674326,\n",
       "        0.16557977,  0.14310206,  0.12165311,  0.10178803,  0.08665742,\n",
       "        0.07569713,  0.06938722,  0.06803539,  0.07172368,  0.0786249 ,\n",
       "        0.08951392,  0.10521711,  0.12165979,  0.14320224,  0.16182768,\n",
       "        0.18457431,  0.21199687,  0.24305664,  0.27086564,  0.28820215,\n",
       "        0.27781375,  0.25415932,  0.2206398 ,  0.1903799 ,  0.16374009,\n",
       "        0.1426877 ,  0.1220906 ,  0.10056179,  0.07891644,  0.06439695,\n",
       "        0.05292062,  0.04815153,  0.04700699,  0.04984459,  0.05597377,\n",
       "        0.06695541,  0.08241837,  0.10147296,  0.12182732,  0.14186685,\n",
       "        0.1639071 ,  0.18973481,  0.22311851,  0.2555118 ,  0.2793056 ,\n",
       "        0.27243484,  0.24086894,  0.20262153,  0.16736784,  0.14201574,\n",
       "        0.12360954,  0.10301526,  0.0786921 ,  0.05810371,  0.04313181,\n",
       "        0.03391721,  0.02889533,  0.02784939,  0.02903485,  0.03403899,\n",
       "        0.04326955,  0.05911524,  0.08047831,  0.10278626,  0.121429  ,\n",
       "        0.14125111,  0.16896105,  0.20301879,  0.24159951,  0.27324279,\n",
       "        0.26514042,  0.22862573,  0.18911504,  0.15347775,  0.12528313,\n",
       "        0.1059438 ,  0.08786649,  0.06301203,  0.04234436,  0.02856046,\n",
       "        0.02115897,  0.01717938,  0.01542046,  0.01738721,  0.02103048,\n",
       "        0.02929483,  0.04318824,  0.06433427,  0.08792689,  0.10733967,\n",
       "        0.12569095,  0.15352343,  0.18755371,  0.22906604,  0.26543   ,\n",
       "        0.25740259,  0.21968236,  0.18073772,  0.14614615,  0.11596694,\n",
       "        0.09660853,  0.07679693,  0.05238551,  0.03376925,  0.02246529,\n",
       "        0.01420408,  0.00745967,  0.00733827,  0.00806777,  0.01174472,\n",
       "        0.02000527,  0.03395438,  0.05389111,  0.0776546 ,  0.09670337,\n",
       "        0.11603159,  0.14593063,  0.17909334,  0.21971654,  0.25436524,\n",
       "        0.24664718,  0.21402847,  0.17672099,  0.13973576,  0.11085101,\n",
       "        0.09191078,  0.0714254 ,  0.04654553,  0.02881461,  0.01749487,\n",
       "        0.00906978,  0.00477945,  0.00216999,  0.00457982,  0.00812823,\n",
       "        0.01619299,  0.02897034,  0.04925128,  0.07196806,  0.08902683,\n",
       "        0.11250443,  0.14295473,  0.17532998,  0.21344817,  0.24942826,\n",
       "        0.24811309,  0.2126931 ,  0.17547839,  0.14246519,  0.110959  ,\n",
       "        0.0878569 ,  0.06987615,  0.04696973,  0.02728059,  0.01561677,\n",
       "        0.00872548,  0.00335213, -0.00005942,  0.00383636,  0.00715482,\n",
       "        0.0150358 ,  0.02714149,  0.04827103,  0.069494  ,  0.0861631 ,\n",
       "        0.11133719,  0.13955123,  0.17123895,  0.21289156,  0.24899778,\n",
       "        0.25245877,  0.21285356,  0.17013697,  0.14243548,  0.11246674,\n",
       "        0.09033374,  0.07009736,  0.04821434,  0.02913944,  0.01734135,\n",
       "        0.00886007,  0.00142602,  0.000798  ,  0.00444744,  0.00863427,\n",
       "        0.01672965,  0.02900661,  0.04983093,  0.07177051,  0.09029461,\n",
       "        0.11336165,  0.14174627,  0.17531058,  0.21562524,  0.24982038,\n",
       "        0.25583766,  0.22262786,  0.1785582 ,  0.14636568,  0.11744491,\n",
       "        0.09757903,  0.07735163,  0.05454869,  0.03405855,  0.0218195 ,\n",
       "        0.01361472,  0.00775205,  0.00703499,  0.00954676,  0.01195671,\n",
       "        0.02145673,  0.03427877,  0.05642886,  0.08097949,  0.09958341,\n",
       "        0.11726853,  0.14694231,  0.1793615 ,  0.22049718,  0.25619459,\n",
       "        0.26204367,  0.22929546,  0.18912026,  0.15428786,  0.12664318,\n",
       "        0.10679369,  0.08775998,  0.06543722,  0.04227877,  0.02924782,\n",
       "        0.02164509,  0.01940008,  0.01698861,  0.01631723,  0.02069764,\n",
       "        0.0287074 ,  0.04310025,  0.06813424,  0.08842402,  0.10847132,\n",
       "        0.1263335 ,  0.15449768,  0.18897131,  0.22810381,  0.26401985,\n",
       "        0.27257624,  0.2411639 ,  0.20326633,  0.16975159,  0.14106639,\n",
       "        0.12153917,  0.10281688,  0.08159696,  0.05765081,  0.04170105,\n",
       "        0.03274232,  0.02889552,  0.02705632,  0.02866813,  0.03393301,\n",
       "        0.04322409,  0.0597851 ,  0.08320147,  0.1079181 ,  0.12098059,\n",
       "        0.14211326,  0.16883115,  0.20300632,  0.24121933,  0.27425273,\n",
       "        0.27743456,  0.25256694,  0.22160935,  0.18646297,  0.1611226 ,\n",
       "        0.1410398 ,  0.12269417,  0.10247753,  0.08213002,  0.06605531,\n",
       "        0.05619207,  0.04902647,  0.04455601,  0.04881769,  0.05380977,\n",
       "        0.06470639,  0.08108395,  0.10218396,  0.12420267,  0.14192387,\n",
       "        0.16103338,  0.18695861,  0.21950873,  0.25354876,  0.27580073,\n",
       "        0.28961833,  0.27075295,  0.24257246,  0.21142733,  0.18466571,\n",
       "        0.16269821,  0.14238005,  0.12431477,  0.10435617,  0.09340148,\n",
       "        0.08067131,  0.07496346,  0.06756504,  0.06895534,  0.07697759,\n",
       "        0.08716006,  0.10495615,  0.12233656,  0.14397096,  0.16378426,\n",
       "        0.18403092,  0.20989965,  0.2397612 ,  0.26961293,  0.28915738,\n",
       "        0.31860714,  0.2967658 ,  0.26498965,  0.23179814,  0.20416142,\n",
       "        0.18295419,  0.163635  ,  0.14237391,  0.12125115,  0.10893901,\n",
       "        0.09840912,  0.09122252,  0.08624423,  0.08970501,  0.0955381 ,\n",
       "        0.10669071,  0.12365564,  0.14335897,  0.16358571,  0.18444842,\n",
       "        0.20427196,  0.23030914,  0.26163723,  0.29616101,  0.32126077,\n",
       "        0.3546015 ,  0.32295289,  0.28512837,  0.25145318,  0.22542205,\n",
       "        0.2044009 ,  0.18575255,  0.16341242,  0.14187445,  0.1259589 ,\n",
       "        0.11671525,  0.1126322 ,  0.11077397,  0.11199434,  0.11626264,\n",
       "        0.12589039,  0.14231697,  0.16444604,  0.18560241,  0.20460773,\n",
       "        0.22340398,  0.25091163,  0.28531867,  0.32383513,  0.35574643,\n",
       "        0.38931865,  0.35310482,  0.30984852,  0.27709026,  0.25091738,\n",
       "        0.23198505,  0.21188397,  0.18824504,  0.16871955,  0.15446568,\n",
       "        0.14582417,  0.1402712 ,  0.14095531,  0.14490085,  0.14432818,\n",
       "        0.15269255,  0.16905665,  0.19010683,  0.21106924,  0.22893456,\n",
       "        0.25083556,  0.27872091,  0.31428457,  0.35375043,  0.38935351,\n",
       "        0.42691486,  0.38826679,  0.34795075,  0.31189635,  0.28448736,\n",
       "        0.26473756,  0.24174863,  0.2202618 ,  0.20254773,  0.18898405,\n",
       "        0.18122161,  0.17479892,  0.17386811,  0.17511425,  0.17933589,\n",
       "        0.1883216 ,  0.20359128,  0.22026211,  0.24117169,  0.26098407,\n",
       "        0.28695543,  0.31616543,  0.34883617,  0.39000159,  0.42050696,\n",
       "        0.45229316,  0.42701614,  0.38811721,  0.35503831,  0.32417204,\n",
       "        0.29658219,  0.26981618,  0.25341855,  0.24130997,  0.23025773,\n",
       "        0.21856021,  0.21282495,  0.21229987,  0.21184324,  0.21842546,\n",
       "        0.2293931 ,  0.24169204,  0.25350486,  0.27129433,  0.29562662,\n",
       "        0.32455663,  0.3504329 ,  0.37739005,  0.42495738,  0.45882643,\n",
       "        0.49794883,  0.46230967,  0.42083311,  0.38694199,  0.35549054,\n",
       "        0.31917796,  0.28770264,  0.27527127,  0.2733649 ,  0.26281419,\n",
       "        0.25585676,  0.25198111,  0.24963458,  0.25020765,  0.25605717,\n",
       "        0.2652925 ,  0.27229426,  0.27837316,  0.28642496,  0.31735305,\n",
       "        0.35780701,  0.39289673,  0.42118512,  0.46239571,  0.4980541 ])"
      ]
     },
     "execution_count": 74,
     "metadata": {},
     "output_type": "execute_result"
    }
   ],
   "source": [
    "result.x"
   ]
  },
  {
   "cell_type": "markdown",
   "metadata": {},
   "source": [
    "As well as $\\mathbf{m^\\ast}$:\n",
    "$$\n",
    "  m^\\ast(x, y) = (x-0.5)^2 + (y-0.5)^2\n",
    "$$"
   ]
  },
  {
   "cell_type": "code",
   "execution_count": 75,
   "metadata": {},
   "outputs": [
    {
     "data": {
      "text/plain": [
       "array([0.5       , 0.46006944, 0.42361111, 0.390625  , 0.36111111,\n",
       "       0.33506944, 0.3125    , 0.29340278, 0.27777778, 0.265625  ,\n",
       "       0.25694444, 0.25173611, 0.25      , 0.25173611, 0.25694444,\n",
       "       0.265625  , 0.27777778, 0.29340278, 0.3125    , 0.33506944,\n",
       "       0.36111111, 0.390625  , 0.42361111, 0.46006944, 0.5       ,\n",
       "       0.46006944, 0.42013889, 0.38368056, 0.35069444, 0.32118056,\n",
       "       0.29513889, 0.27256944, 0.25347222, 0.23784722, 0.22569444,\n",
       "       0.21701389, 0.21180556, 0.21006944, 0.21180556, 0.21701389,\n",
       "       0.22569444, 0.23784722, 0.25347222, 0.27256944, 0.29513889,\n",
       "       0.32118056, 0.35069444, 0.38368056, 0.42013889, 0.46006944,\n",
       "       0.42361111, 0.38368056, 0.34722222, 0.31423611, 0.28472222,\n",
       "       0.25868056, 0.23611111, 0.21701389, 0.20138889, 0.18923611,\n",
       "       0.18055556, 0.17534722, 0.17361111, 0.17534722, 0.18055556,\n",
       "       0.18923611, 0.20138889, 0.21701389, 0.23611111, 0.25868056,\n",
       "       0.28472222, 0.31423611, 0.34722222, 0.38368056, 0.42361111,\n",
       "       0.390625  , 0.35069444, 0.31423611, 0.28125   , 0.25173611,\n",
       "       0.22569444, 0.203125  , 0.18402778, 0.16840278, 0.15625   ,\n",
       "       0.14756944, 0.14236111, 0.140625  , 0.14236111, 0.14756944,\n",
       "       0.15625   , 0.16840278, 0.18402778, 0.203125  , 0.22569444,\n",
       "       0.25173611, 0.28125   , 0.31423611, 0.35069444, 0.390625  ,\n",
       "       0.36111111, 0.32118056, 0.28472222, 0.25173611, 0.22222222,\n",
       "       0.19618056, 0.17361111, 0.15451389, 0.13888889, 0.12673611,\n",
       "       0.11805556, 0.11284722, 0.11111111, 0.11284722, 0.11805556,\n",
       "       0.12673611, 0.13888889, 0.15451389, 0.17361111, 0.19618056,\n",
       "       0.22222222, 0.25173611, 0.28472222, 0.32118056, 0.36111111,\n",
       "       0.33506944, 0.29513889, 0.25868056, 0.22569444, 0.19618056,\n",
       "       0.17013889, 0.14756944, 0.12847222, 0.11284722, 0.10069444,\n",
       "       0.09201389, 0.08680556, 0.08506944, 0.08680556, 0.09201389,\n",
       "       0.10069444, 0.11284722, 0.12847222, 0.14756944, 0.17013889,\n",
       "       0.19618056, 0.22569444, 0.25868056, 0.29513889, 0.33506944,\n",
       "       0.3125    , 0.27256944, 0.23611111, 0.203125  , 0.17361111,\n",
       "       0.14756944, 0.125     , 0.10590278, 0.09027778, 0.078125  ,\n",
       "       0.06944444, 0.06423611, 0.0625    , 0.06423611, 0.06944444,\n",
       "       0.078125  , 0.09027778, 0.10590278, 0.125     , 0.14756944,\n",
       "       0.17361111, 0.203125  , 0.23611111, 0.27256944, 0.3125    ,\n",
       "       0.29340278, 0.25347222, 0.21701389, 0.18402778, 0.15451389,\n",
       "       0.12847222, 0.10590278, 0.08680556, 0.07118056, 0.05902778,\n",
       "       0.05034722, 0.04513889, 0.04340278, 0.04513889, 0.05034722,\n",
       "       0.05902778, 0.07118056, 0.08680556, 0.10590278, 0.12847222,\n",
       "       0.15451389, 0.18402778, 0.21701389, 0.25347222, 0.29340278,\n",
       "       0.27777778, 0.23784722, 0.20138889, 0.16840278, 0.13888889,\n",
       "       0.11284722, 0.09027778, 0.07118056, 0.05555556, 0.04340278,\n",
       "       0.03472222, 0.02951389, 0.02777778, 0.02951389, 0.03472222,\n",
       "       0.04340278, 0.05555556, 0.07118056, 0.09027778, 0.11284722,\n",
       "       0.13888889, 0.16840278, 0.20138889, 0.23784722, 0.27777778,\n",
       "       0.265625  , 0.22569444, 0.18923611, 0.15625   , 0.12673611,\n",
       "       0.10069444, 0.078125  , 0.05902778, 0.04340278, 0.03125   ,\n",
       "       0.02256944, 0.01736111, 0.015625  , 0.01736111, 0.02256944,\n",
       "       0.03125   , 0.04340278, 0.05902778, 0.078125  , 0.10069444,\n",
       "       0.12673611, 0.15625   , 0.18923611, 0.22569444, 0.265625  ,\n",
       "       0.25694444, 0.21701389, 0.18055556, 0.14756944, 0.11805556,\n",
       "       0.09201389, 0.06944444, 0.05034722, 0.03472222, 0.02256944,\n",
       "       0.01388889, 0.00868056, 0.00694444, 0.00868056, 0.01388889,\n",
       "       0.02256944, 0.03472222, 0.05034722, 0.06944444, 0.09201389,\n",
       "       0.11805556, 0.14756944, 0.18055556, 0.21701389, 0.25694444,\n",
       "       0.25173611, 0.21180556, 0.17534722, 0.14236111, 0.11284722,\n",
       "       0.08680556, 0.06423611, 0.04513889, 0.02951389, 0.01736111,\n",
       "       0.00868056, 0.00347222, 0.00173611, 0.00347222, 0.00868056,\n",
       "       0.01736111, 0.02951389, 0.04513889, 0.06423611, 0.08680556,\n",
       "       0.11284722, 0.14236111, 0.17534722, 0.21180556, 0.25173611,\n",
       "       0.25      , 0.21006944, 0.17361111, 0.140625  , 0.11111111,\n",
       "       0.08506944, 0.0625    , 0.04340278, 0.02777778, 0.015625  ,\n",
       "       0.00694444, 0.00173611, 0.        , 0.00173611, 0.00694444,\n",
       "       0.015625  , 0.02777778, 0.04340278, 0.0625    , 0.08506944,\n",
       "       0.11111111, 0.140625  , 0.17361111, 0.21006944, 0.25      ,\n",
       "       0.25173611, 0.21180556, 0.17534722, 0.14236111, 0.11284722,\n",
       "       0.08680556, 0.06423611, 0.04513889, 0.02951389, 0.01736111,\n",
       "       0.00868056, 0.00347222, 0.00173611, 0.00347222, 0.00868056,\n",
       "       0.01736111, 0.02951389, 0.04513889, 0.06423611, 0.08680556,\n",
       "       0.11284722, 0.14236111, 0.17534722, 0.21180556, 0.25173611,\n",
       "       0.25694444, 0.21701389, 0.18055556, 0.14756944, 0.11805556,\n",
       "       0.09201389, 0.06944444, 0.05034722, 0.03472222, 0.02256944,\n",
       "       0.01388889, 0.00868056, 0.00694444, 0.00868056, 0.01388889,\n",
       "       0.02256944, 0.03472222, 0.05034722, 0.06944444, 0.09201389,\n",
       "       0.11805556, 0.14756944, 0.18055556, 0.21701389, 0.25694444,\n",
       "       0.265625  , 0.22569444, 0.18923611, 0.15625   , 0.12673611,\n",
       "       0.10069444, 0.078125  , 0.05902778, 0.04340278, 0.03125   ,\n",
       "       0.02256944, 0.01736111, 0.015625  , 0.01736111, 0.02256944,\n",
       "       0.03125   , 0.04340278, 0.05902778, 0.078125  , 0.10069444,\n",
       "       0.12673611, 0.15625   , 0.18923611, 0.22569444, 0.265625  ,\n",
       "       0.27777778, 0.23784722, 0.20138889, 0.16840278, 0.13888889,\n",
       "       0.11284722, 0.09027778, 0.07118056, 0.05555556, 0.04340278,\n",
       "       0.03472222, 0.02951389, 0.02777778, 0.02951389, 0.03472222,\n",
       "       0.04340278, 0.05555556, 0.07118056, 0.09027778, 0.11284722,\n",
       "       0.13888889, 0.16840278, 0.20138889, 0.23784722, 0.27777778,\n",
       "       0.29340278, 0.25347222, 0.21701389, 0.18402778, 0.15451389,\n",
       "       0.12847222, 0.10590278, 0.08680556, 0.07118056, 0.05902778,\n",
       "       0.05034722, 0.04513889, 0.04340278, 0.04513889, 0.05034722,\n",
       "       0.05902778, 0.07118056, 0.08680556, 0.10590278, 0.12847222,\n",
       "       0.15451389, 0.18402778, 0.21701389, 0.25347222, 0.29340278,\n",
       "       0.3125    , 0.27256944, 0.23611111, 0.203125  , 0.17361111,\n",
       "       0.14756944, 0.125     , 0.10590278, 0.09027778, 0.078125  ,\n",
       "       0.06944444, 0.06423611, 0.0625    , 0.06423611, 0.06944444,\n",
       "       0.078125  , 0.09027778, 0.10590278, 0.125     , 0.14756944,\n",
       "       0.17361111, 0.203125  , 0.23611111, 0.27256944, 0.3125    ,\n",
       "       0.33506944, 0.29513889, 0.25868056, 0.22569444, 0.19618056,\n",
       "       0.17013889, 0.14756944, 0.12847222, 0.11284722, 0.10069444,\n",
       "       0.09201389, 0.08680556, 0.08506944, 0.08680556, 0.09201389,\n",
       "       0.10069444, 0.11284722, 0.12847222, 0.14756944, 0.17013889,\n",
       "       0.19618056, 0.22569444, 0.25868056, 0.29513889, 0.33506944,\n",
       "       0.36111111, 0.32118056, 0.28472222, 0.25173611, 0.22222222,\n",
       "       0.19618056, 0.17361111, 0.15451389, 0.13888889, 0.12673611,\n",
       "       0.11805556, 0.11284722, 0.11111111, 0.11284722, 0.11805556,\n",
       "       0.12673611, 0.13888889, 0.15451389, 0.17361111, 0.19618056,\n",
       "       0.22222222, 0.25173611, 0.28472222, 0.32118056, 0.36111111,\n",
       "       0.390625  , 0.35069444, 0.31423611, 0.28125   , 0.25173611,\n",
       "       0.22569444, 0.203125  , 0.18402778, 0.16840278, 0.15625   ,\n",
       "       0.14756944, 0.14236111, 0.140625  , 0.14236111, 0.14756944,\n",
       "       0.15625   , 0.16840278, 0.18402778, 0.203125  , 0.22569444,\n",
       "       0.25173611, 0.28125   , 0.31423611, 0.35069444, 0.390625  ,\n",
       "       0.42361111, 0.38368056, 0.34722222, 0.31423611, 0.28472222,\n",
       "       0.25868056, 0.23611111, 0.21701389, 0.20138889, 0.18923611,\n",
       "       0.18055556, 0.17534722, 0.17361111, 0.17534722, 0.18055556,\n",
       "       0.18923611, 0.20138889, 0.21701389, 0.23611111, 0.25868056,\n",
       "       0.28472222, 0.31423611, 0.34722222, 0.38368056, 0.42361111,\n",
       "       0.46006944, 0.42013889, 0.38368056, 0.35069444, 0.32118056,\n",
       "       0.29513889, 0.27256944, 0.25347222, 0.23784722, 0.22569444,\n",
       "       0.21701389, 0.21180556, 0.21006944, 0.21180556, 0.21701389,\n",
       "       0.22569444, 0.23784722, 0.25347222, 0.27256944, 0.29513889,\n",
       "       0.32118056, 0.35069444, 0.38368056, 0.42013889, 0.46006944,\n",
       "       0.5       , 0.46006944, 0.42361111, 0.390625  , 0.36111111,\n",
       "       0.33506944, 0.3125    , 0.29340278, 0.27777778, 0.265625  ,\n",
       "       0.25694444, 0.25173611, 0.25      , 0.25173611, 0.25694444,\n",
       "       0.265625  , 0.27777778, 0.29340278, 0.3125    , 0.33506944,\n",
       "       0.36111111, 0.390625  , 0.42361111, 0.46006944, 0.5       ])"
      ]
     },
     "execution_count": 75,
     "metadata": {},
     "output_type": "execute_result"
    }
   ],
   "source": [
    "m_ast(xi, yi)"
   ]
  },
  {
   "cell_type": "markdown",
   "metadata": {},
   "source": [
    "Let's check the $d_1$ norm of $\\mathbf{m} - \\mathbf{m^\\ast}$:"
   ]
  },
  {
   "cell_type": "code",
   "execution_count": 76,
   "metadata": {},
   "outputs": [
    {
     "data": {
      "text/plain": [
       "2.989247346148329"
      ]
     },
     "execution_count": 76,
     "metadata": {},
     "output_type": "execute_result"
    }
   ],
   "source": [
    "np.sum(abs(result.x - m_ast(xi, yi)))"
   ]
  },
  {
   "cell_type": "markdown",
   "metadata": {},
   "source": [
    "Also the $d_1$ norm of $\\mathbf u - \\mathbf {u_{\\text{obs}}}$:"
   ]
  },
  {
   "cell_type": "code",
   "execution_count": 77,
   "metadata": {},
   "outputs": [
    {
     "data": {
      "text/plain": [
       "-0.00012777525040824422"
      ]
     },
     "execution_count": 77,
     "metadata": {},
     "output_type": "execute_result"
    }
   ],
   "source": [
    "np.sum(res)"
   ]
  },
  {
   "cell_type": "markdown",
   "metadata": {},
   "source": [
    "Yes, they are much more close to each other in $d_1$ metric ! This proves that our methodology does not go wrong, but a smaller $\\gamma$ is needed. "
   ]
  }
 ],
 "metadata": {
  "kernelspec": {
   "display_name": "Python 3",
   "language": "python",
   "name": "python3"
  },
  "language_info": {
   "codemirror_mode": {
    "name": "ipython",
    "version": 3
   },
   "file_extension": ".py",
   "mimetype": "text/x-python",
   "name": "python",
   "nbconvert_exporter": "python",
   "pygments_lexer": "ipython3",
   "version": "3.8.5"
  },
  "toc": {
   "base_numbering": 1,
   "nav_menu": {},
   "number_sections": true,
   "sideBar": true,
   "skip_h1_title": false,
   "title_cell": "Table of Contents",
   "title_sidebar": "Contents",
   "toc_cell": false,
   "toc_position": {},
   "toc_section_display": true,
   "toc_window_display": false
  }
 },
 "nbformat": 4,
 "nbformat_minor": 5
}
